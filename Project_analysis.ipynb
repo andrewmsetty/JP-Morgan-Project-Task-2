{
 "cells": [
  {
   "cell_type": "code",
   "execution_count": 1,
   "metadata": {},
   "outputs": [
    {
     "name": "stderr",
     "output_type": "stream",
     "text": [
      "C:\\Anaconda3\\envs\\py2_env\\lib\\site-packages\\sklearn\\cross_validation.py:41: DeprecationWarning: This module was deprecated in version 0.18 in favor of the model_selection module into which all the refactored classes and functions are moved. Also note that the interface of the new CV iterators are different from that of this module. This module will be removed in 0.20.\n",
      "  \"This module will be removed in 0.20.\", DeprecationWarning)\n"
     ]
    }
   ],
   "source": [
    "import sys\n",
    "import pickle\n",
    "sys.path.append(\"../tools/\")\n",
    "\n",
    "from feature_format import featureFormat, targetFeatureSplit\n",
    "from tester import dump_classifier_and_data\n",
    "\n",
    "import pandas as pd\n",
    "from matplotlib import pyplot as plt\n",
    "\n",
    "### Task 1: Select what features you'll use.\n",
    "### features_list is a list of strings, each of which is a feature name.\n",
    "### The first feature must be \"poi\".\n",
    "\n",
    "### Load the dictionary containing the dataset\n",
    "with open(\"final_project_dataset.pkl\", \"r\") as data_file:\n",
    "    data_dict = pickle.load(data_file)\n",
    "    \n"
   ]
  },
  {
   "cell_type": "code",
   "execution_count": 2,
   "metadata": {},
   "outputs": [
    {
     "name": "stderr",
     "output_type": "stream",
     "text": [
      "C:\\Anaconda3\\envs\\py2_env\\lib\\site-packages\\sklearn\\grid_search.py:42: DeprecationWarning: This module was deprecated in version 0.18 in favor of the model_selection module into which all the refactored classes and functions are moved. This module will be removed in 0.20.\n",
      "  DeprecationWarning)\n"
     ]
    }
   ],
   "source": [
    "import numpy as np\n",
    "from sklearn.metrics import accuracy_score, precision_score, recall_score, f1_score\n",
    "from sklearn.grid_search import GridSearchCV\n",
    "from time import time"
   ]
  },
  {
   "cell_type": "code",
   "execution_count": 3,
   "metadata": {},
   "outputs": [
    {
     "data": {
      "text/html": [
       "<div>\n",
       "<style>\n",
       "    .dataframe thead tr:only-child th {\n",
       "        text-align: right;\n",
       "    }\n",
       "\n",
       "    .dataframe thead th {\n",
       "        text-align: left;\n",
       "    }\n",
       "\n",
       "    .dataframe tbody tr th {\n",
       "        vertical-align: top;\n",
       "    }\n",
       "</style>\n",
       "<table border=\"1\" class=\"dataframe\">\n",
       "  <thead>\n",
       "    <tr style=\"text-align: right;\">\n",
       "      <th></th>\n",
       "      <th>bonus</th>\n",
       "      <th>deferral_payments</th>\n",
       "      <th>deferred_income</th>\n",
       "      <th>director_fees</th>\n",
       "      <th>email_address</th>\n",
       "      <th>exercised_stock_options</th>\n",
       "      <th>expenses</th>\n",
       "      <th>from_messages</th>\n",
       "      <th>from_poi_to_this_person</th>\n",
       "      <th>from_this_person_to_poi</th>\n",
       "      <th>...</th>\n",
       "      <th>long_term_incentive</th>\n",
       "      <th>other</th>\n",
       "      <th>poi</th>\n",
       "      <th>restricted_stock</th>\n",
       "      <th>restricted_stock_deferred</th>\n",
       "      <th>salary</th>\n",
       "      <th>shared_receipt_with_poi</th>\n",
       "      <th>to_messages</th>\n",
       "      <th>total_payments</th>\n",
       "      <th>total_stock_value</th>\n",
       "    </tr>\n",
       "  </thead>\n",
       "  <tbody>\n",
       "    <tr>\n",
       "      <th>METTS MARK</th>\n",
       "      <td>600000</td>\n",
       "      <td>NaN</td>\n",
       "      <td>NaN</td>\n",
       "      <td>NaN</td>\n",
       "      <td>mark.metts@enron.com</td>\n",
       "      <td>NaN</td>\n",
       "      <td>94299</td>\n",
       "      <td>29</td>\n",
       "      <td>38</td>\n",
       "      <td>1</td>\n",
       "      <td>...</td>\n",
       "      <td>NaN</td>\n",
       "      <td>1740</td>\n",
       "      <td>False</td>\n",
       "      <td>585062</td>\n",
       "      <td>NaN</td>\n",
       "      <td>365788</td>\n",
       "      <td>702</td>\n",
       "      <td>807</td>\n",
       "      <td>1061827</td>\n",
       "      <td>585062</td>\n",
       "    </tr>\n",
       "    <tr>\n",
       "      <th>BAXTER JOHN C</th>\n",
       "      <td>1200000</td>\n",
       "      <td>1295738</td>\n",
       "      <td>-1386055</td>\n",
       "      <td>NaN</td>\n",
       "      <td>NaN</td>\n",
       "      <td>6680544</td>\n",
       "      <td>11200</td>\n",
       "      <td>NaN</td>\n",
       "      <td>NaN</td>\n",
       "      <td>NaN</td>\n",
       "      <td>...</td>\n",
       "      <td>1586055</td>\n",
       "      <td>2660303</td>\n",
       "      <td>False</td>\n",
       "      <td>3942714</td>\n",
       "      <td>NaN</td>\n",
       "      <td>267102</td>\n",
       "      <td>NaN</td>\n",
       "      <td>NaN</td>\n",
       "      <td>5634343</td>\n",
       "      <td>10623258</td>\n",
       "    </tr>\n",
       "    <tr>\n",
       "      <th>ELLIOTT STEVEN</th>\n",
       "      <td>350000</td>\n",
       "      <td>NaN</td>\n",
       "      <td>-400729</td>\n",
       "      <td>NaN</td>\n",
       "      <td>steven.elliott@enron.com</td>\n",
       "      <td>4890344</td>\n",
       "      <td>78552</td>\n",
       "      <td>NaN</td>\n",
       "      <td>NaN</td>\n",
       "      <td>NaN</td>\n",
       "      <td>...</td>\n",
       "      <td>NaN</td>\n",
       "      <td>12961</td>\n",
       "      <td>False</td>\n",
       "      <td>1788391</td>\n",
       "      <td>NaN</td>\n",
       "      <td>170941</td>\n",
       "      <td>NaN</td>\n",
       "      <td>NaN</td>\n",
       "      <td>211725</td>\n",
       "      <td>6678735</td>\n",
       "    </tr>\n",
       "    <tr>\n",
       "      <th>CORDES WILLIAM R</th>\n",
       "      <td>NaN</td>\n",
       "      <td>NaN</td>\n",
       "      <td>NaN</td>\n",
       "      <td>NaN</td>\n",
       "      <td>bill.cordes@enron.com</td>\n",
       "      <td>651850</td>\n",
       "      <td>NaN</td>\n",
       "      <td>12</td>\n",
       "      <td>10</td>\n",
       "      <td>0</td>\n",
       "      <td>...</td>\n",
       "      <td>NaN</td>\n",
       "      <td>NaN</td>\n",
       "      <td>False</td>\n",
       "      <td>386335</td>\n",
       "      <td>NaN</td>\n",
       "      <td>NaN</td>\n",
       "      <td>58</td>\n",
       "      <td>764</td>\n",
       "      <td>NaN</td>\n",
       "      <td>1038185</td>\n",
       "    </tr>\n",
       "    <tr>\n",
       "      <th>HANNON KEVIN P</th>\n",
       "      <td>1500000</td>\n",
       "      <td>NaN</td>\n",
       "      <td>-3117011</td>\n",
       "      <td>NaN</td>\n",
       "      <td>kevin.hannon@enron.com</td>\n",
       "      <td>5538001</td>\n",
       "      <td>34039</td>\n",
       "      <td>32</td>\n",
       "      <td>32</td>\n",
       "      <td>21</td>\n",
       "      <td>...</td>\n",
       "      <td>1617011</td>\n",
       "      <td>11350</td>\n",
       "      <td>True</td>\n",
       "      <td>853064</td>\n",
       "      <td>NaN</td>\n",
       "      <td>243293</td>\n",
       "      <td>1035</td>\n",
       "      <td>1045</td>\n",
       "      <td>288682</td>\n",
       "      <td>6391065</td>\n",
       "    </tr>\n",
       "  </tbody>\n",
       "</table>\n",
       "<p>5 rows × 21 columns</p>\n",
       "</div>"
      ],
      "text/plain": [
       "                    bonus deferral_payments deferred_income director_fees  \\\n",
       "METTS MARK         600000               NaN             NaN           NaN   \n",
       "BAXTER JOHN C     1200000           1295738        -1386055           NaN   \n",
       "ELLIOTT STEVEN     350000               NaN         -400729           NaN   \n",
       "CORDES WILLIAM R      NaN               NaN             NaN           NaN   \n",
       "HANNON KEVIN P    1500000               NaN        -3117011           NaN   \n",
       "\n",
       "                             email_address exercised_stock_options expenses  \\\n",
       "METTS MARK            mark.metts@enron.com                     NaN    94299   \n",
       "BAXTER JOHN C                          NaN                 6680544    11200   \n",
       "ELLIOTT STEVEN    steven.elliott@enron.com                 4890344    78552   \n",
       "CORDES WILLIAM R     bill.cordes@enron.com                  651850      NaN   \n",
       "HANNON KEVIN P      kevin.hannon@enron.com                 5538001    34039   \n",
       "\n",
       "                 from_messages from_poi_to_this_person  \\\n",
       "METTS MARK                  29                      38   \n",
       "BAXTER JOHN C              NaN                     NaN   \n",
       "ELLIOTT STEVEN             NaN                     NaN   \n",
       "CORDES WILLIAM R            12                      10   \n",
       "HANNON KEVIN P              32                      32   \n",
       "\n",
       "                 from_this_person_to_poi        ...         \\\n",
       "METTS MARK                             1        ...          \n",
       "BAXTER JOHN C                        NaN        ...          \n",
       "ELLIOTT STEVEN                       NaN        ...          \n",
       "CORDES WILLIAM R                       0        ...          \n",
       "HANNON KEVIN P                        21        ...          \n",
       "\n",
       "                 long_term_incentive    other    poi  restricted_stock  \\\n",
       "METTS MARK                       NaN     1740  False            585062   \n",
       "BAXTER JOHN C                1586055  2660303  False           3942714   \n",
       "ELLIOTT STEVEN                   NaN    12961  False           1788391   \n",
       "CORDES WILLIAM R                 NaN      NaN  False            386335   \n",
       "HANNON KEVIN P               1617011    11350   True            853064   \n",
       "\n",
       "                 restricted_stock_deferred  salary shared_receipt_with_poi  \\\n",
       "METTS MARK                             NaN  365788                     702   \n",
       "BAXTER JOHN C                          NaN  267102                     NaN   \n",
       "ELLIOTT STEVEN                         NaN  170941                     NaN   \n",
       "CORDES WILLIAM R                       NaN     NaN                      58   \n",
       "HANNON KEVIN P                         NaN  243293                    1035   \n",
       "\n",
       "                 to_messages total_payments total_stock_value  \n",
       "METTS MARK               807        1061827            585062  \n",
       "BAXTER JOHN C            NaN        5634343          10623258  \n",
       "ELLIOTT STEVEN           NaN         211725           6678735  \n",
       "CORDES WILLIAM R         764            NaN           1038185  \n",
       "HANNON KEVIN P          1045         288682           6391065  \n",
       "\n",
       "[5 rows x 21 columns]"
      ]
     },
     "execution_count": 3,
     "metadata": {},
     "output_type": "execute_result"
    }
   ],
   "source": [
    "# Converting the given pickled Enron data to a pandas dataframe\n",
    "enron_df = pd.DataFrame.from_records(list(data_dict.values()))\n",
    "\n",
    "# set the index of df to be the employees series:\n",
    "employees = pd.Series(list(data_dict.keys()))\n",
    "enron_df.set_index(employees, inplace=True)\n",
    "enron_df.head()"
   ]
  },
  {
   "cell_type": "code",
   "execution_count": 4,
   "metadata": {},
   "outputs": [
    {
     "name": "stdout",
     "output_type": "stream",
     "text": [
      "Size of the enron dataframe :  (146, 21)\n"
     ]
    }
   ],
   "source": [
    "print \"Size of the enron dataframe : \",enron_df.shape"
   ]
  },
  {
   "cell_type": "code",
   "execution_count": 5,
   "metadata": {},
   "outputs": [
    {
     "name": "stdout",
     "output_type": "stream",
     "text": [
      "Number of data points(people) in the dataset :  146\n"
     ]
    }
   ],
   "source": [
    "print \"Number of data points(people) in the dataset : \",len(enron_df)"
   ]
  },
  {
   "cell_type": "code",
   "execution_count": 6,
   "metadata": {},
   "outputs": [
    {
     "name": "stdout",
     "output_type": "stream",
     "text": [
      "To find the number of Features in the Enron Dataset :  21\n"
     ]
    }
   ],
   "source": [
    "print \"To find the number of Features in the Enron Dataset : \",len(enron_df.columns)"
   ]
  },
  {
   "cell_type": "code",
   "execution_count": 7,
   "metadata": {},
   "outputs": [
    {
     "data": {
      "text/plain": [
       "poi\n",
       "False    128\n",
       "True      18\n",
       "dtype: int64"
      ]
     },
     "execution_count": 7,
     "metadata": {},
     "output_type": "execute_result"
    }
   ],
   "source": [
    "enron_df.groupby('poi').size()"
   ]
  },
  {
   "cell_type": "code",
   "execution_count": 8,
   "metadata": {},
   "outputs": [
    {
     "data": {
      "text/plain": [
       "poi\n",
       "False    128\n",
       "True      18\n",
       "dtype: int64"
      ]
     },
     "execution_count": 8,
     "metadata": {},
     "output_type": "execute_result"
    }
   ],
   "source": [
    "poi_t = enron_df.groupby('poi').size()\n",
    "poi_t"
   ]
  },
  {
   "cell_type": "code",
   "execution_count": 9,
   "metadata": {},
   "outputs": [
    {
     "data": {
      "text/plain": [
       "pandas.core.series.Series"
      ]
     },
     "execution_count": 9,
     "metadata": {},
     "output_type": "execute_result"
    }
   ],
   "source": [
    "type(poi_t)"
   ]
  },
  {
   "cell_type": "code",
   "execution_count": 10,
   "metadata": {},
   "outputs": [
    {
     "name": "stdout",
     "output_type": "stream",
     "text": [
      "Total number of non-POI's in the given dataset :  128\n"
     ]
    }
   ],
   "source": [
    "print \"Total number of non-POI's in the given dataset : \",poi_t.iloc[0]"
   ]
  },
  {
   "cell_type": "code",
   "execution_count": 11,
   "metadata": {},
   "outputs": [
    {
     "name": "stdout",
     "output_type": "stream",
     "text": [
      "Total number of POI's in the given dataset :  18\n"
     ]
    }
   ],
   "source": [
    "print \"Total number of POI's in the given dataset : \",poi_t.iloc[1]"
   ]
  },
  {
   "cell_type": "markdown",
   "metadata": {
    "collapsed": true
   },
   "source": [
    "So, in the given dataset there are 18 POI's and 128 non-POI's.  \n"
   ]
  },
  {
   "cell_type": "code",
   "execution_count": 12,
   "metadata": {},
   "outputs": [
    {
     "data": {
      "text/plain": [
       "bonus                        object\n",
       "deferral_payments            object\n",
       "deferred_income              object\n",
       "director_fees                object\n",
       "email_address                object\n",
       "exercised_stock_options      object\n",
       "expenses                     object\n",
       "from_messages                object\n",
       "from_poi_to_this_person      object\n",
       "from_this_person_to_poi      object\n",
       "loan_advances                object\n",
       "long_term_incentive          object\n",
       "other                        object\n",
       "poi                            bool\n",
       "restricted_stock             object\n",
       "restricted_stock_deferred    object\n",
       "salary                       object\n",
       "shared_receipt_with_poi      object\n",
       "to_messages                  object\n",
       "total_payments               object\n",
       "total_stock_value            object\n",
       "dtype: object"
      ]
     },
     "execution_count": 12,
     "metadata": {},
     "output_type": "execute_result"
    }
   ],
   "source": [
    "enron_df.dtypes"
   ]
  },
  {
   "cell_type": "code",
   "execution_count": 13,
   "metadata": {},
   "outputs": [
    {
     "data": {
      "text/html": [
       "<div>\n",
       "<style>\n",
       "    .dataframe thead tr:only-child th {\n",
       "        text-align: right;\n",
       "    }\n",
       "\n",
       "    .dataframe thead th {\n",
       "        text-align: left;\n",
       "    }\n",
       "\n",
       "    .dataframe tbody tr th {\n",
       "        vertical-align: top;\n",
       "    }\n",
       "</style>\n",
       "<table border=\"1\" class=\"dataframe\">\n",
       "  <thead>\n",
       "    <tr style=\"text-align: right;\">\n",
       "      <th></th>\n",
       "      <th>bonus</th>\n",
       "      <th>deferral_payments</th>\n",
       "      <th>deferred_income</th>\n",
       "      <th>director_fees</th>\n",
       "      <th>email_address</th>\n",
       "      <th>exercised_stock_options</th>\n",
       "      <th>expenses</th>\n",
       "      <th>from_messages</th>\n",
       "      <th>from_poi_to_this_person</th>\n",
       "      <th>from_this_person_to_poi</th>\n",
       "      <th>...</th>\n",
       "      <th>long_term_incentive</th>\n",
       "      <th>other</th>\n",
       "      <th>poi</th>\n",
       "      <th>restricted_stock</th>\n",
       "      <th>restricted_stock_deferred</th>\n",
       "      <th>salary</th>\n",
       "      <th>shared_receipt_with_poi</th>\n",
       "      <th>to_messages</th>\n",
       "      <th>total_payments</th>\n",
       "      <th>total_stock_value</th>\n",
       "    </tr>\n",
       "  </thead>\n",
       "  <tbody>\n",
       "    <tr>\n",
       "      <th>METTS MARK</th>\n",
       "      <td>600000.0</td>\n",
       "      <td>0.0</td>\n",
       "      <td>0.0</td>\n",
       "      <td>0.0</td>\n",
       "      <td>0.0</td>\n",
       "      <td>0.0</td>\n",
       "      <td>94299.0</td>\n",
       "      <td>29.0</td>\n",
       "      <td>38.0</td>\n",
       "      <td>1.0</td>\n",
       "      <td>...</td>\n",
       "      <td>0.0</td>\n",
       "      <td>1740.0</td>\n",
       "      <td>False</td>\n",
       "      <td>585062.0</td>\n",
       "      <td>0.0</td>\n",
       "      <td>365788.0</td>\n",
       "      <td>702.0</td>\n",
       "      <td>807.0</td>\n",
       "      <td>1061827.0</td>\n",
       "      <td>585062.0</td>\n",
       "    </tr>\n",
       "    <tr>\n",
       "      <th>BAXTER JOHN C</th>\n",
       "      <td>1200000.0</td>\n",
       "      <td>1295738.0</td>\n",
       "      <td>-1386055.0</td>\n",
       "      <td>0.0</td>\n",
       "      <td>0.0</td>\n",
       "      <td>6680544.0</td>\n",
       "      <td>11200.0</td>\n",
       "      <td>0.0</td>\n",
       "      <td>0.0</td>\n",
       "      <td>0.0</td>\n",
       "      <td>...</td>\n",
       "      <td>1586055.0</td>\n",
       "      <td>2660303.0</td>\n",
       "      <td>False</td>\n",
       "      <td>3942714.0</td>\n",
       "      <td>0.0</td>\n",
       "      <td>267102.0</td>\n",
       "      <td>0.0</td>\n",
       "      <td>0.0</td>\n",
       "      <td>5634343.0</td>\n",
       "      <td>10623258.0</td>\n",
       "    </tr>\n",
       "    <tr>\n",
       "      <th>ELLIOTT STEVEN</th>\n",
       "      <td>350000.0</td>\n",
       "      <td>0.0</td>\n",
       "      <td>-400729.0</td>\n",
       "      <td>0.0</td>\n",
       "      <td>0.0</td>\n",
       "      <td>4890344.0</td>\n",
       "      <td>78552.0</td>\n",
       "      <td>0.0</td>\n",
       "      <td>0.0</td>\n",
       "      <td>0.0</td>\n",
       "      <td>...</td>\n",
       "      <td>0.0</td>\n",
       "      <td>12961.0</td>\n",
       "      <td>False</td>\n",
       "      <td>1788391.0</td>\n",
       "      <td>0.0</td>\n",
       "      <td>170941.0</td>\n",
       "      <td>0.0</td>\n",
       "      <td>0.0</td>\n",
       "      <td>211725.0</td>\n",
       "      <td>6678735.0</td>\n",
       "    </tr>\n",
       "    <tr>\n",
       "      <th>CORDES WILLIAM R</th>\n",
       "      <td>0.0</td>\n",
       "      <td>0.0</td>\n",
       "      <td>0.0</td>\n",
       "      <td>0.0</td>\n",
       "      <td>0.0</td>\n",
       "      <td>651850.0</td>\n",
       "      <td>0.0</td>\n",
       "      <td>12.0</td>\n",
       "      <td>10.0</td>\n",
       "      <td>0.0</td>\n",
       "      <td>...</td>\n",
       "      <td>0.0</td>\n",
       "      <td>0.0</td>\n",
       "      <td>False</td>\n",
       "      <td>386335.0</td>\n",
       "      <td>0.0</td>\n",
       "      <td>0.0</td>\n",
       "      <td>58.0</td>\n",
       "      <td>764.0</td>\n",
       "      <td>0.0</td>\n",
       "      <td>1038185.0</td>\n",
       "    </tr>\n",
       "    <tr>\n",
       "      <th>HANNON KEVIN P</th>\n",
       "      <td>1500000.0</td>\n",
       "      <td>0.0</td>\n",
       "      <td>-3117011.0</td>\n",
       "      <td>0.0</td>\n",
       "      <td>0.0</td>\n",
       "      <td>5538001.0</td>\n",
       "      <td>34039.0</td>\n",
       "      <td>32.0</td>\n",
       "      <td>32.0</td>\n",
       "      <td>21.0</td>\n",
       "      <td>...</td>\n",
       "      <td>1617011.0</td>\n",
       "      <td>11350.0</td>\n",
       "      <td>True</td>\n",
       "      <td>853064.0</td>\n",
       "      <td>0.0</td>\n",
       "      <td>243293.0</td>\n",
       "      <td>1035.0</td>\n",
       "      <td>1045.0</td>\n",
       "      <td>288682.0</td>\n",
       "      <td>6391065.0</td>\n",
       "    </tr>\n",
       "  </tbody>\n",
       "</table>\n",
       "<p>5 rows × 21 columns</p>\n",
       "</div>"
      ],
      "text/plain": [
       "                      bonus  deferral_payments  deferred_income  \\\n",
       "METTS MARK         600000.0                0.0              0.0   \n",
       "BAXTER JOHN C     1200000.0          1295738.0       -1386055.0   \n",
       "ELLIOTT STEVEN     350000.0                0.0        -400729.0   \n",
       "CORDES WILLIAM R        0.0                0.0              0.0   \n",
       "HANNON KEVIN P    1500000.0                0.0       -3117011.0   \n",
       "\n",
       "                  director_fees  email_address  exercised_stock_options  \\\n",
       "METTS MARK                  0.0            0.0                      0.0   \n",
       "BAXTER JOHN C               0.0            0.0                6680544.0   \n",
       "ELLIOTT STEVEN              0.0            0.0                4890344.0   \n",
       "CORDES WILLIAM R            0.0            0.0                 651850.0   \n",
       "HANNON KEVIN P              0.0            0.0                5538001.0   \n",
       "\n",
       "                  expenses  from_messages  from_poi_to_this_person  \\\n",
       "METTS MARK         94299.0           29.0                     38.0   \n",
       "BAXTER JOHN C      11200.0            0.0                      0.0   \n",
       "ELLIOTT STEVEN     78552.0            0.0                      0.0   \n",
       "CORDES WILLIAM R       0.0           12.0                     10.0   \n",
       "HANNON KEVIN P     34039.0           32.0                     32.0   \n",
       "\n",
       "                  from_this_person_to_poi        ...          \\\n",
       "METTS MARK                            1.0        ...           \n",
       "BAXTER JOHN C                         0.0        ...           \n",
       "ELLIOTT STEVEN                        0.0        ...           \n",
       "CORDES WILLIAM R                      0.0        ...           \n",
       "HANNON KEVIN P                       21.0        ...           \n",
       "\n",
       "                  long_term_incentive      other    poi  restricted_stock  \\\n",
       "METTS MARK                        0.0     1740.0  False          585062.0   \n",
       "BAXTER JOHN C               1586055.0  2660303.0  False         3942714.0   \n",
       "ELLIOTT STEVEN                    0.0    12961.0  False         1788391.0   \n",
       "CORDES WILLIAM R                  0.0        0.0  False          386335.0   \n",
       "HANNON KEVIN P              1617011.0    11350.0   True          853064.0   \n",
       "\n",
       "                  restricted_stock_deferred    salary  \\\n",
       "METTS MARK                              0.0  365788.0   \n",
       "BAXTER JOHN C                           0.0  267102.0   \n",
       "ELLIOTT STEVEN                          0.0  170941.0   \n",
       "CORDES WILLIAM R                        0.0       0.0   \n",
       "HANNON KEVIN P                          0.0  243293.0   \n",
       "\n",
       "                  shared_receipt_with_poi  to_messages  total_payments  \\\n",
       "METTS MARK                          702.0        807.0       1061827.0   \n",
       "BAXTER JOHN C                         0.0          0.0       5634343.0   \n",
       "ELLIOTT STEVEN                        0.0          0.0        211725.0   \n",
       "CORDES WILLIAM R                     58.0        764.0             0.0   \n",
       "HANNON KEVIN P                     1035.0       1045.0        288682.0   \n",
       "\n",
       "                  total_stock_value  \n",
       "METTS MARK                 585062.0  \n",
       "BAXTER JOHN C            10623258.0  \n",
       "ELLIOTT STEVEN            6678735.0  \n",
       "CORDES WILLIAM R          1038185.0  \n",
       "HANNON KEVIN P            6391065.0  \n",
       "\n",
       "[5 rows x 21 columns]"
      ]
     },
     "execution_count": 13,
     "metadata": {},
     "output_type": "execute_result"
    }
   ],
   "source": [
    "# Coerce numeric values into floats or ints; also change NaN to zero:\n",
    "enron_df_new = enron_df.apply(lambda x : pd.to_numeric(x, errors = 'coerce')).copy().fillna(0)\n",
    "enron_df_new.head()"
   ]
  },
  {
   "cell_type": "markdown",
   "metadata": {},
   "source": [
    "Removing the column of __email_address__ from the enron_df as it is not of much used in this project."
   ]
  },
  {
   "cell_type": "code",
   "execution_count": 14,
   "metadata": {},
   "outputs": [
    {
     "data": {
      "text/html": [
       "<div>\n",
       "<style>\n",
       "    .dataframe thead tr:only-child th {\n",
       "        text-align: right;\n",
       "    }\n",
       "\n",
       "    .dataframe thead th {\n",
       "        text-align: left;\n",
       "    }\n",
       "\n",
       "    .dataframe tbody tr th {\n",
       "        vertical-align: top;\n",
       "    }\n",
       "</style>\n",
       "<table border=\"1\" class=\"dataframe\">\n",
       "  <thead>\n",
       "    <tr style=\"text-align: right;\">\n",
       "      <th></th>\n",
       "      <th>bonus</th>\n",
       "      <th>deferral_payments</th>\n",
       "      <th>deferred_income</th>\n",
       "      <th>director_fees</th>\n",
       "      <th>exercised_stock_options</th>\n",
       "      <th>expenses</th>\n",
       "      <th>from_messages</th>\n",
       "      <th>from_poi_to_this_person</th>\n",
       "      <th>from_this_person_to_poi</th>\n",
       "      <th>loan_advances</th>\n",
       "      <th>long_term_incentive</th>\n",
       "      <th>other</th>\n",
       "      <th>poi</th>\n",
       "      <th>restricted_stock</th>\n",
       "      <th>restricted_stock_deferred</th>\n",
       "      <th>salary</th>\n",
       "      <th>shared_receipt_with_poi</th>\n",
       "      <th>to_messages</th>\n",
       "      <th>total_payments</th>\n",
       "      <th>total_stock_value</th>\n",
       "    </tr>\n",
       "  </thead>\n",
       "  <tbody>\n",
       "    <tr>\n",
       "      <th>METTS MARK</th>\n",
       "      <td>600000.0</td>\n",
       "      <td>0.0</td>\n",
       "      <td>0.0</td>\n",
       "      <td>0.0</td>\n",
       "      <td>0.0</td>\n",
       "      <td>94299.0</td>\n",
       "      <td>29.0</td>\n",
       "      <td>38.0</td>\n",
       "      <td>1.0</td>\n",
       "      <td>0.0</td>\n",
       "      <td>0.0</td>\n",
       "      <td>1740.0</td>\n",
       "      <td>False</td>\n",
       "      <td>585062.0</td>\n",
       "      <td>0.0</td>\n",
       "      <td>365788.0</td>\n",
       "      <td>702.0</td>\n",
       "      <td>807.0</td>\n",
       "      <td>1061827.0</td>\n",
       "      <td>585062.0</td>\n",
       "    </tr>\n",
       "    <tr>\n",
       "      <th>BAXTER JOHN C</th>\n",
       "      <td>1200000.0</td>\n",
       "      <td>1295738.0</td>\n",
       "      <td>-1386055.0</td>\n",
       "      <td>0.0</td>\n",
       "      <td>6680544.0</td>\n",
       "      <td>11200.0</td>\n",
       "      <td>0.0</td>\n",
       "      <td>0.0</td>\n",
       "      <td>0.0</td>\n",
       "      <td>0.0</td>\n",
       "      <td>1586055.0</td>\n",
       "      <td>2660303.0</td>\n",
       "      <td>False</td>\n",
       "      <td>3942714.0</td>\n",
       "      <td>0.0</td>\n",
       "      <td>267102.0</td>\n",
       "      <td>0.0</td>\n",
       "      <td>0.0</td>\n",
       "      <td>5634343.0</td>\n",
       "      <td>10623258.0</td>\n",
       "    </tr>\n",
       "    <tr>\n",
       "      <th>ELLIOTT STEVEN</th>\n",
       "      <td>350000.0</td>\n",
       "      <td>0.0</td>\n",
       "      <td>-400729.0</td>\n",
       "      <td>0.0</td>\n",
       "      <td>4890344.0</td>\n",
       "      <td>78552.0</td>\n",
       "      <td>0.0</td>\n",
       "      <td>0.0</td>\n",
       "      <td>0.0</td>\n",
       "      <td>0.0</td>\n",
       "      <td>0.0</td>\n",
       "      <td>12961.0</td>\n",
       "      <td>False</td>\n",
       "      <td>1788391.0</td>\n",
       "      <td>0.0</td>\n",
       "      <td>170941.0</td>\n",
       "      <td>0.0</td>\n",
       "      <td>0.0</td>\n",
       "      <td>211725.0</td>\n",
       "      <td>6678735.0</td>\n",
       "    </tr>\n",
       "    <tr>\n",
       "      <th>CORDES WILLIAM R</th>\n",
       "      <td>0.0</td>\n",
       "      <td>0.0</td>\n",
       "      <td>0.0</td>\n",
       "      <td>0.0</td>\n",
       "      <td>651850.0</td>\n",
       "      <td>0.0</td>\n",
       "      <td>12.0</td>\n",
       "      <td>10.0</td>\n",
       "      <td>0.0</td>\n",
       "      <td>0.0</td>\n",
       "      <td>0.0</td>\n",
       "      <td>0.0</td>\n",
       "      <td>False</td>\n",
       "      <td>386335.0</td>\n",
       "      <td>0.0</td>\n",
       "      <td>0.0</td>\n",
       "      <td>58.0</td>\n",
       "      <td>764.0</td>\n",
       "      <td>0.0</td>\n",
       "      <td>1038185.0</td>\n",
       "    </tr>\n",
       "    <tr>\n",
       "      <th>HANNON KEVIN P</th>\n",
       "      <td>1500000.0</td>\n",
       "      <td>0.0</td>\n",
       "      <td>-3117011.0</td>\n",
       "      <td>0.0</td>\n",
       "      <td>5538001.0</td>\n",
       "      <td>34039.0</td>\n",
       "      <td>32.0</td>\n",
       "      <td>32.0</td>\n",
       "      <td>21.0</td>\n",
       "      <td>0.0</td>\n",
       "      <td>1617011.0</td>\n",
       "      <td>11350.0</td>\n",
       "      <td>True</td>\n",
       "      <td>853064.0</td>\n",
       "      <td>0.0</td>\n",
       "      <td>243293.0</td>\n",
       "      <td>1035.0</td>\n",
       "      <td>1045.0</td>\n",
       "      <td>288682.0</td>\n",
       "      <td>6391065.0</td>\n",
       "    </tr>\n",
       "  </tbody>\n",
       "</table>\n",
       "</div>"
      ],
      "text/plain": [
       "                      bonus  deferral_payments  deferred_income  \\\n",
       "METTS MARK         600000.0                0.0              0.0   \n",
       "BAXTER JOHN C     1200000.0          1295738.0       -1386055.0   \n",
       "ELLIOTT STEVEN     350000.0                0.0        -400729.0   \n",
       "CORDES WILLIAM R        0.0                0.0              0.0   \n",
       "HANNON KEVIN P    1500000.0                0.0       -3117011.0   \n",
       "\n",
       "                  director_fees  exercised_stock_options  expenses  \\\n",
       "METTS MARK                  0.0                      0.0   94299.0   \n",
       "BAXTER JOHN C               0.0                6680544.0   11200.0   \n",
       "ELLIOTT STEVEN              0.0                4890344.0   78552.0   \n",
       "CORDES WILLIAM R            0.0                 651850.0       0.0   \n",
       "HANNON KEVIN P              0.0                5538001.0   34039.0   \n",
       "\n",
       "                  from_messages  from_poi_to_this_person  \\\n",
       "METTS MARK                 29.0                     38.0   \n",
       "BAXTER JOHN C               0.0                      0.0   \n",
       "ELLIOTT STEVEN              0.0                      0.0   \n",
       "CORDES WILLIAM R           12.0                     10.0   \n",
       "HANNON KEVIN P             32.0                     32.0   \n",
       "\n",
       "                  from_this_person_to_poi  loan_advances  long_term_incentive  \\\n",
       "METTS MARK                            1.0            0.0                  0.0   \n",
       "BAXTER JOHN C                         0.0            0.0            1586055.0   \n",
       "ELLIOTT STEVEN                        0.0            0.0                  0.0   \n",
       "CORDES WILLIAM R                      0.0            0.0                  0.0   \n",
       "HANNON KEVIN P                       21.0            0.0            1617011.0   \n",
       "\n",
       "                      other    poi  restricted_stock  \\\n",
       "METTS MARK           1740.0  False          585062.0   \n",
       "BAXTER JOHN C     2660303.0  False         3942714.0   \n",
       "ELLIOTT STEVEN      12961.0  False         1788391.0   \n",
       "CORDES WILLIAM R        0.0  False          386335.0   \n",
       "HANNON KEVIN P      11350.0   True          853064.0   \n",
       "\n",
       "                  restricted_stock_deferred    salary  \\\n",
       "METTS MARK                              0.0  365788.0   \n",
       "BAXTER JOHN C                           0.0  267102.0   \n",
       "ELLIOTT STEVEN                          0.0  170941.0   \n",
       "CORDES WILLIAM R                        0.0       0.0   \n",
       "HANNON KEVIN P                          0.0  243293.0   \n",
       "\n",
       "                  shared_receipt_with_poi  to_messages  total_payments  \\\n",
       "METTS MARK                          702.0        807.0       1061827.0   \n",
       "BAXTER JOHN C                         0.0          0.0       5634343.0   \n",
       "ELLIOTT STEVEN                        0.0          0.0        211725.0   \n",
       "CORDES WILLIAM R                     58.0        764.0             0.0   \n",
       "HANNON KEVIN P                     1035.0       1045.0        288682.0   \n",
       "\n",
       "                  total_stock_value  \n",
       "METTS MARK                 585062.0  \n",
       "BAXTER JOHN C            10623258.0  \n",
       "ELLIOTT STEVEN            6678735.0  \n",
       "CORDES WILLIAM R          1038185.0  \n",
       "HANNON KEVIN P            6391065.0  "
      ]
     },
     "execution_count": 14,
     "metadata": {},
     "output_type": "execute_result"
    }
   ],
   "source": [
    "# Dropping column 'email_address' as not required in analysis\n",
    "enron_df_new.drop('email_address', axis = 1, inplace = True)\n",
    "enron_df_new.head()"
   ]
  },
  {
   "cell_type": "code",
   "execution_count": 15,
   "metadata": {},
   "outputs": [
    {
     "data": {
      "text/plain": [
       "(146, 20)"
      ]
     },
     "execution_count": 15,
     "metadata": {},
     "output_type": "execute_result"
    }
   ],
   "source": [
    "# Checking the changed shape of df\n",
    "enron_df_new.shape"
   ]
  },
  {
   "cell_type": "markdown",
   "metadata": {},
   "source": [
    "## Analyzing the features of Enron Dataset\n",
    "### Financial Features \n",
    "\n",
    "#### 1. Bonus and Salary"
   ]
  },
  {
   "cell_type": "code",
   "execution_count": 16,
   "metadata": {},
   "outputs": [
    {
     "data": {
      "image/png": "[encoded data removed]",
      "text/plain": [
       "<matplotlib.figure.Figure at 0xb7ad2b0>"
      ]
     },
     "metadata": {},
     "output_type": "display_data"
    }
   ],
   "source": [
    "# Drawing scatterplot \n",
    "\n",
    "plt.scatter(enron_df_new['salary'][enron_df_new['poi'] == True],enron_df_new['bonus'][enron_df_new['poi'] == True], color = 'r',\n",
    "           label = 'POI')\n",
    "plt.scatter(enron_df_new['salary'][enron_df_new['poi'] == False],enron_df_new['bonus'][enron_df_new['poi'] == False],color = 'b',\n",
    "           label = 'Not-POI')\n",
    "    \n",
    "plt.xlabel(\"Salary\")\n",
    "plt.ylabel(\"Bonus\")\n",
    "plt.title(\"Scatterplot of salary vs bonus w.r.t POI\")\n",
    "plt.legend(loc='upper left')\n",
    "plt.show()  "
   ]
  },
  {
   "cell_type": "markdown",
   "metadata": {
    "collapsed": true
   },
   "source": [
    "From the above figure, one point has high value of salary and bonus."
   ]
  },
  {
   "cell_type": "code",
   "execution_count": 17,
   "metadata": {},
   "outputs": [
    {
     "data": {
      "text/plain": [
       "'TOTAL'"
      ]
     },
     "execution_count": 17,
     "metadata": {},
     "output_type": "execute_result"
    }
   ],
   "source": [
    "enron_df_new['salary'].argmax()"
   ]
  },
  {
   "cell_type": "markdown",
   "metadata": {
    "collapsed": true
   },
   "source": [
    "## Removing Outlier 1 : 'TOTAL'\n",
    "So the 'TOTAL' row is removed from the above df."
   ]
  },
  {
   "cell_type": "code",
   "execution_count": 18,
   "metadata": {},
   "outputs": [
    {
     "data": {
      "text/plain": [
       "(145, 20)"
      ]
     },
     "execution_count": 18,
     "metadata": {},
     "output_type": "execute_result"
    }
   ],
   "source": [
    "enron_df_new.drop('TOTAL', axis = 0, inplace = True)\n",
    "enron_df_new.shape"
   ]
  },
  {
   "cell_type": "markdown",
   "metadata": {
    "collapsed": true
   },
   "source": [
    "So the scatterplot for the changed df is."
   ]
  },
  {
   "cell_type": "code",
   "execution_count": 19,
   "metadata": {},
   "outputs": [
    {
     "data": {
      "image/png": "[encoded data removed]",
      "text/plain": [
       "<matplotlib.figure.Figure at 0x33f5eb8>"
      ]
     },
     "metadata": {},
     "output_type": "display_data"
    }
   ],
   "source": [
    "plt.scatter(enron_df_new['salary'][enron_df_new['poi'] == True],enron_df_new['bonus'][enron_df_new['poi'] == True], color = 'r',\n",
    "           label = 'POI')\n",
    "plt.scatter(enron_df_new['salary'][enron_df_new['poi'] == False],enron_df_new['bonus'][enron_df_new['poi'] == False],color = 'b',\n",
    "           label = 'Not-POI')\n",
    "    \n",
    "plt.xlabel(\"Salary\")\n",
    "plt.ylabel(\"Bonus\")\n",
    "plt.title(\"Scatterplot of salary vs bonus w.r.t POI\")\n",
    "plt.legend(loc='upper left')\n",
    "plt.show() "
   ]
  },
  {
   "cell_type": "markdown",
   "metadata": {},
   "source": [
    "As the POI's were taking larger amounts of money as bonus, in addition to their high salary so it can be stated that the ratio of bonus to salary of the POI's will be higher as compared to that of non-POI's. "
   ]
  },
  {
   "cell_type": "markdown",
   "metadata": {},
   "source": [
    "#### Feature created :  bonus-to-salary_ratio"
   ]
  },
  {
   "cell_type": "code",
   "execution_count": 20,
   "metadata": {
    "collapsed": true
   },
   "outputs": [],
   "source": [
    "# Created a new feature\n",
    "enron_df_new['bonus-to-salary_ratio'] = enron_df_new['bonus']/enron_df_new['salary']"
   ]
  },
  {
   "cell_type": "markdown",
   "metadata": {},
   "source": [
    "## Removing Outlier 2 : 'THE TRAVEL AGENCY IN THE PARK'"
   ]
  },
  {
   "cell_type": "code",
   "execution_count": 21,
   "metadata": {},
   "outputs": [
    {
     "data": {
      "text/plain": [
       "bonus                             0\n",
       "deferral_payments                 0\n",
       "deferred_income                   0\n",
       "director_fees                     0\n",
       "exercised_stock_options           0\n",
       "expenses                          0\n",
       "from_messages                     0\n",
       "from_poi_to_this_person           0\n",
       "from_this_person_to_poi           0\n",
       "loan_advances                     0\n",
       "long_term_incentive               0\n",
       "other                        362096\n",
       "poi                           False\n",
       "restricted_stock                  0\n",
       "restricted_stock_deferred         0\n",
       "salary                            0\n",
       "shared_receipt_with_poi           0\n",
       "to_messages                       0\n",
       "total_payments               362096\n",
       "total_stock_value                 0\n",
       "bonus-to-salary_ratio           NaN\n",
       "Name: THE TRAVEL AGENCY IN THE PARK, dtype: object"
      ]
     },
     "execution_count": 21,
     "metadata": {},
     "output_type": "execute_result"
    }
   ],
   "source": [
    "enron_df_new.loc['THE TRAVEL AGENCY IN THE PARK']"
   ]
  },
  {
   "cell_type": "code",
   "execution_count": 22,
   "metadata": {},
   "outputs": [
    {
     "data": {
      "text/plain": [
       "(144, 21)"
      ]
     },
     "execution_count": 22,
     "metadata": {},
     "output_type": "execute_result"
    }
   ],
   "source": [
    "enron_df_new.drop('THE TRAVEL AGENCY IN THE PARK', axis = 0, inplace = True)\n",
    "enron_df_new.shape"
   ]
  },
  {
   "cell_type": "markdown",
   "metadata": {},
   "source": [
    "#### 2. Deferred_income, deferred_payment and total_payment \n",
    "\n",
    "According to [BusinessDictionary.com](http://www.businessdictionary.com/definition/deferred-payment.html) : Deferred payment is \"a loan arrangement in which the borrower is allowed to start making payments at some specified time in the future. Deferred payment arrangements are often used in retail settings where a person buys and receives an item with a commitment to begin making payments at a future date.\"\n",
    "\n",
    "[Deferred income](https://en.wikipedia.org/wiki/Deferred_income) : (also known as deferred revenue, unearned revenue, or unearned income) is, in accrual accounting, money received for goods or services which have not yet been delivered. According to the revenue recognition principle, it is recorded as a liability until delivery is made, at which time it is converted into revenue.\n",
    "\n",
    "As Enron scam involved a lot of undisclosed assets and cheating public by selling assets to shell companies at end of each month and buying them back at the start of next month to hide the acounting losses so there are chances that lot of deferred revenue by the company was used by the POI's."
   ]
  },
  {
   "cell_type": "code",
   "execution_count": 23,
   "metadata": {},
   "outputs": [
    {
     "data": {
      "text/plain": [
       "count    1.440000e+02\n",
       "mean    -1.936833e+05\n",
       "std      6.060111e+05\n",
       "min     -3.504386e+06\n",
       "25%     -3.708600e+04\n",
       "50%      0.000000e+00\n",
       "75%      0.000000e+00\n",
       "max      0.000000e+00\n",
       "Name: deferred_income, dtype: float64"
      ]
     },
     "execution_count": 23,
     "metadata": {},
     "output_type": "execute_result"
    }
   ],
   "source": [
    "enron_df_new['deferred_income'].describe()"
   ]
  },
  {
   "cell_type": "markdown",
   "metadata": {},
   "source": [
    "The __deferred_income__ feature has mostly negative values as it is the money which has to be returned by the company."
   ]
  },
  {
   "cell_type": "code",
   "execution_count": 24,
   "metadata": {},
   "outputs": [
    {
     "name": "stdout",
     "output_type": "stream",
     "text": [
      "length poi list :  18\n",
      "length non-poi list :  126\n"
     ]
    }
   ],
   "source": [
    "# Finding out the integer index locations of POIs and non-POIs\n",
    "poi_rs = []\n",
    "non_poi_rs = []\n",
    "for i in range(len(enron_df_new['poi'])):\n",
    "    if enron_df_new['poi'][i] == True:\n",
    "        poi_rs.append(i+1)\n",
    "    else:\n",
    "        non_poi_rs.append(i+1)\n",
    "\n",
    "print \"length poi list : \",len(poi_rs)\n",
    "print \"length non-poi list : \",len(non_poi_rs)"
   ]
  },
  {
   "cell_type": "code",
   "execution_count": 25,
   "metadata": {},
   "outputs": [
    {
     "data": {
      "image/png": "[encoded data removed]",
      "text/plain": [
       "<matplotlib.figure.Figure at 0xb95cb70>"
      ]
     },
     "metadata": {},
     "output_type": "display_data"
    }
   ],
   "source": [
    "plt.scatter(non_poi_rs,\n",
    "            enron_df_new['deferred_income'][enron_df_new['poi'] == False],\n",
    "            color = 'b', label = 'Not-POI')\n",
    "\n",
    "plt.scatter(poi_rs,\n",
    "            enron_df_new['deferred_income'][enron_df_new['poi'] == True],\n",
    "            color = 'r', label = 'POI')\n",
    "\n",
    "    \n",
    "plt.xlabel('Employees')\n",
    "plt.ylabel('deferred_income')\n",
    "plt.title(\"Scatterplot of Employees with deferred income\")\n",
    "plt.legend(loc='upper right')\n",
    "plt.show()"
   ]
  },
  {
   "cell_type": "code",
   "execution_count": 26,
   "metadata": {},
   "outputs": [
    {
     "data": {
      "image/png": "[encoded data removed]",
      "text/plain": [
       "<matplotlib.figure.Figure at 0xbd52160>"
      ]
     },
     "metadata": {},
     "output_type": "display_data"
    }
   ],
   "source": [
    "plt.scatter(enron_df_new['total_payments'][enron_df_new['poi'] == False],\n",
    "            enron_df_new['deferral_payments'][enron_df_new['poi'] == False],\n",
    "            color = 'b', label = 'Not-POI')\n",
    "\n",
    "plt.scatter(enron_df_new['total_payments'][enron_df_new['poi'] == True],\n",
    "            enron_df_new['deferral_payments'][enron_df_new['poi'] == True],\n",
    "            color = 'r', label = 'POI')\n",
    "\n",
    "    \n",
    "plt.xlabel('total_payments')\n",
    "plt.ylabel('deferral_payments')\n",
    "plt.title(\"Scatterplot of total_payments vs deferral_payments w.r.t POI\")\n",
    "plt.legend(loc='upper right')\n",
    "plt.show() "
   ]
  },
  {
   "cell_type": "markdown",
   "metadata": {},
   "source": [
    "From the above scatterplot it can be observed that majority of POIs have very low value of deferral payments as compared to the deferral_payments of non-POIs. \n",
    "\n",
    "So, from the above we can observe there are two outliers. The one having high value of total_payments is a POI and the other outlier with high value of deferral payments is a non-POI. I am removing the non-POI outlier."
   ]
  },
  {
   "cell_type": "code",
   "execution_count": 27,
   "metadata": {},
   "outputs": [
    {
     "data": {
      "text/plain": [
       "'FREVERT MARK A'"
      ]
     },
     "execution_count": 27,
     "metadata": {},
     "output_type": "execute_result"
    }
   ],
   "source": [
    "enron_df_new['deferral_payments'].argmax()"
   ]
  },
  {
   "cell_type": "markdown",
   "metadata": {},
   "source": [
    "### remove the 3rd outlier for 'deferral_payments'"
   ]
  },
  {
   "cell_type": "code",
   "execution_count": 28,
   "metadata": {},
   "outputs": [
    {
     "data": {
      "text/plain": [
       "(143, 21)"
      ]
     },
     "execution_count": 28,
     "metadata": {},
     "output_type": "execute_result"
    }
   ],
   "source": [
    "enron_df_new.drop('FREVERT MARK A', axis = 0, inplace = True)\n",
    "enron_df_new.shape"
   ]
  },
  {
   "cell_type": "code",
   "execution_count": 29,
   "metadata": {
    "collapsed": true
   },
   "outputs": [],
   "source": [
    "# Finding out the integer index locations of POIs and non-POIs\n",
    "poi_rs = []\n",
    "non_poi_rs = []\n",
    "for i in range(len(enron_df_new['poi'])):\n",
    "    if enron_df_new['poi'][i] == True:\n",
    "        poi_rs.append(i+1)\n",
    "    else:\n",
    "        non_poi_rs.append(i+1)"
   ]
  },
  {
   "cell_type": "code",
   "execution_count": 30,
   "metadata": {},
   "outputs": [
    {
     "data": {
      "image/png": "[encoded data removed]",
      "text/plain": [
       "<matplotlib.figure.Figure at 0xb81b668>"
      ]
     },
     "metadata": {},
     "output_type": "display_data"
    }
   ],
   "source": [
    "plt.scatter(non_poi_rs,\n",
    "            enron_df_new['restricted_stock'][enron_df_new['poi'] == False],\n",
    "            color = 'b', label = 'Not-POI')\n",
    "\n",
    "plt.scatter(poi_rs,\n",
    "            enron_df_new['restricted_stock'][enron_df_new['poi'] == True],\n",
    "            color = 'r', label = 'POI')\n",
    "\n",
    "    \n",
    "plt.xlabel('Employees')\n",
    "plt.ylabel('restricted_stock')\n",
    "plt.title(\"Scatterplot of Employee number with restricted stock\")\n",
    "plt.legend(loc='upper right')\n",
    "plt.show()"
   ]
  },
  {
   "cell_type": "code",
   "execution_count": 31,
   "metadata": {},
   "outputs": [
    {
     "data": {
      "text/plain": [
       "'LAY KENNETH L'"
      ]
     },
     "execution_count": 31,
     "metadata": {},
     "output_type": "execute_result"
    }
   ],
   "source": [
    "enron_df_new['restricted_stock'].argmax()"
   ]
  },
  {
   "cell_type": "markdown",
   "metadata": {},
   "source": [
    "#### 3. long_term_incentive"
   ]
  },
  {
   "cell_type": "code",
   "execution_count": 32,
   "metadata": {},
   "outputs": [
    {
     "data": {
      "image/png": "[encoded data removed]",
      "text/plain": [
       "<matplotlib.figure.Figure at 0xb277518>"
      ]
     },
     "metadata": {},
     "output_type": "display_data"
    }
   ],
   "source": [
    "plt.scatter(non_poi_rs,\n",
    "            enron_df_new['long_term_incentive'][enron_df_new['poi'] == False],\n",
    "            color = 'b', label = 'Not-POI')\n",
    "\n",
    "plt.scatter(poi_rs,\n",
    "            enron_df_new['long_term_incentive'][enron_df_new['poi'] == True],\n",
    "            color = 'r', label = 'POI')\n",
    "\n",
    "    \n",
    "plt.xlabel('Employees')\n",
    "plt.ylabel('long_term_incentive')\n",
    "plt.title(\"Scatterplot of Employee number with long_term_incentive\")\n",
    "plt.legend(loc='upper left')\n",
    "plt.show()"
   ]
  },
  {
   "cell_type": "code",
   "execution_count": 33,
   "metadata": {},
   "outputs": [
    {
     "data": {
      "text/plain": [
       "'MARTIN AMANDA K'"
      ]
     },
     "execution_count": 33,
     "metadata": {},
     "output_type": "execute_result"
    }
   ],
   "source": [
    "enron_df_new['long_term_incentive'].argmax()"
   ]
  },
  {
   "cell_type": "markdown",
   "metadata": {},
   "source": [
    "### Remove the 4th outlier for 'long_term_incentive'"
   ]
  },
  {
   "cell_type": "code",
   "execution_count": 34,
   "metadata": {},
   "outputs": [
    {
     "data": {
      "text/plain": [
       "(142, 21)"
      ]
     },
     "execution_count": 34,
     "metadata": {},
     "output_type": "execute_result"
    }
   ],
   "source": [
    "enron_df_new.drop('MARTIN AMANDA K', axis = 0, inplace = True)\n",
    "enron_df_new.shape"
   ]
  },
  {
   "cell_type": "markdown",
   "metadata": {},
   "source": [
    "#### 4. restricted_stock and restricted_stock_deferred"
   ]
  },
  {
   "cell_type": "code",
   "execution_count": 35,
   "metadata": {},
   "outputs": [
    {
     "data": {
      "text/plain": [
       "count    1.420000e+02\n",
       "mean     7.445196e+04\n",
       "std      1.311155e+06\n",
       "min     -1.787380e+06\n",
       "25%      0.000000e+00\n",
       "50%      0.000000e+00\n",
       "75%      0.000000e+00\n",
       "max      1.545629e+07\n",
       "Name: restricted_stock_deferred, dtype: float64"
      ]
     },
     "execution_count": 35,
     "metadata": {},
     "output_type": "execute_result"
    }
   ],
   "source": [
    "enron_df_new['restricted_stock_deferred'].describe()"
   ]
  },
  {
   "cell_type": "code",
   "execution_count": 36,
   "metadata": {},
   "outputs": [
    {
     "data": {
      "text/plain": [
       "count    1.420000e+02\n",
       "mean     8.512715e+05\n",
       "std      2.010079e+06\n",
       "min     -2.604490e+06\n",
       "25%      3.536825e+04\n",
       "50%      3.605280e+05\n",
       "75%      6.987505e+05\n",
       "max      1.476169e+07\n",
       "Name: restricted_stock, dtype: float64"
      ]
     },
     "execution_count": 36,
     "metadata": {},
     "output_type": "execute_result"
    }
   ],
   "source": [
    "enron_df_new['restricted_stock'].describe()"
   ]
  },
  {
   "cell_type": "code",
   "execution_count": 37,
   "metadata": {},
   "outputs": [
    {
     "data": {
      "image/png": "[encoded data removed]",
      "text/plain": [
       "<matplotlib.figure.Figure at 0xb81b2e8>"
      ]
     },
     "metadata": {},
     "output_type": "display_data"
    }
   ],
   "source": [
    "# Scatterplot of restricted_stock vs 'restricted_stock_deferred' w.r.t POI\n",
    "\n",
    "plt.scatter(enron_df_new['restricted_stock'][enron_df_new['poi'] == False],\n",
    "            enron_df_new['restricted_stock_deferred'][enron_df_new['poi'] == False],\n",
    "            color = 'b', label = 'Not-POI')\n",
    "\n",
    "plt.scatter(enron_df_new['restricted_stock'][enron_df_new['poi'] == True],\n",
    "            enron_df_new['restricted_stock_deferred'][enron_df_new['poi'] == True],\n",
    "            color = 'r', label = 'POI')\n",
    "\n",
    "    \n",
    "plt.xlabel('restricted_stock')\n",
    "plt.ylabel('restricted_stock_deferred')\n",
    "plt.title(\"Scatterplot of restricted_stock vs 'restricted_stock_deferred' w.r.t POI\")\n",
    "plt.legend(loc='upper right')\n",
    "plt.show() "
   ]
  },
  {
   "cell_type": "markdown",
   "metadata": {},
   "source": [
    "So obtained an outlier in the feature __restricted_stock_deferred__. Also taking a quick look at the values of __restricted_stock_deferred__ most of the values are zeros and the remaining few are negative values. The outlier found here is for the enron employee __BHATNAGAR SANJAY__ who is not a POI and in this analysis i am removing this datapoint hoping that it may aid in classification.  \n",
    "\n",
    "And at the other axis of the graph, the other maximum values are of a POI and a non-POI so no need to remove them. "
   ]
  },
  {
   "cell_type": "code",
   "execution_count": 38,
   "metadata": {},
   "outputs": [
    {
     "data": {
      "text/plain": [
       "'BHATNAGAR SANJAY'"
      ]
     },
     "execution_count": 38,
     "metadata": {},
     "output_type": "execute_result"
    }
   ],
   "source": [
    "enron_df_new['restricted_stock_deferred'].argmax()"
   ]
  },
  {
   "cell_type": "code",
   "execution_count": 39,
   "metadata": {},
   "outputs": [
    {
     "data": {
      "text/plain": [
       "False"
      ]
     },
     "execution_count": 39,
     "metadata": {},
     "output_type": "execute_result"
    }
   ],
   "source": [
    "enron_df_new.loc['BHATNAGAR SANJAY']['poi']"
   ]
  },
  {
   "cell_type": "markdown",
   "metadata": {},
   "source": [
    "### Did not remove the outlier for 'restricted_stock_deferred'"
   ]
  },
  {
   "cell_type": "code",
   "execution_count": 40,
   "metadata": {},
   "outputs": [
    {
     "data": {
      "text/plain": [
       "(141, 21)"
      ]
     },
     "execution_count": 40,
     "metadata": {},
     "output_type": "execute_result"
    }
   ],
   "source": [
    "enron_df_new.drop('BHATNAGAR SANJAY', axis = 0, inplace = True)\n",
    "enron_df_new.shape"
   ]
  },
  {
   "cell_type": "markdown",
   "metadata": {},
   "source": [
    "#### 5.  expenses"
   ]
  },
  {
   "cell_type": "code",
   "execution_count": 41,
   "metadata": {
    "collapsed": true
   },
   "outputs": [],
   "source": [
    "# Finding out the integer index locations of POIs and non-POIs\n",
    "poi_rs = []\n",
    "non_poi_rs = []\n",
    "for i in range(len(enron_df_new['poi'])):\n",
    "    if enron_df_new['poi'][i] == True:\n",
    "        poi_rs.append(i+1)\n",
    "    else:\n",
    "        non_poi_rs.append(i+1)"
   ]
  },
  {
   "cell_type": "code",
   "execution_count": 42,
   "metadata": {},
   "outputs": [
    {
     "data": {
      "image/png": "[encoded data removed]",
      "text/plain": [
       "<matplotlib.figure.Figure at 0xbff19e8>"
      ]
     },
     "metadata": {},
     "output_type": "display_data"
    }
   ],
   "source": [
    "plt.scatter(non_poi_rs,\n",
    "            enron_df_new['expenses'][enron_df_new['poi'] == False],\n",
    "            color = 'b', label = 'Not-POI')\n",
    "\n",
    "plt.scatter(poi_rs,\n",
    "            enron_df_new['expenses'][enron_df_new['poi'] == True],\n",
    "            color = 'r', label = 'POI')\n",
    "\n",
    "    \n",
    "plt.xlabel('Employees')\n",
    "plt.ylabel('expenses')\n",
    "plt.title(\"Scatterplot of Employee number with expenses\")\n",
    "plt.legend(loc='upper right')\n",
    "plt.show()"
   ]
  },
  {
   "cell_type": "code",
   "execution_count": 43,
   "metadata": {},
   "outputs": [
    {
     "data": {
      "image/png": "[encoded data removed]",
      "text/plain": [
       "<matplotlib.figure.Figure at 0xc59c208>"
      ]
     },
     "metadata": {},
     "output_type": "display_data"
    }
   ],
   "source": [
    "plt.scatter(non_poi_rs,\n",
    "            enron_df_new['deferred_income'][enron_df_new['poi'] == False],\n",
    "            color = 'b', label = 'Not-POI')\n",
    "\n",
    "plt.scatter(poi_rs,\n",
    "            enron_df_new['deferred_income'][enron_df_new['poi'] == True],\n",
    "            color = 'r', label = 'POI')\n",
    "\n",
    "    \n",
    "plt.xlabel('Employees')\n",
    "plt.ylabel('deferred_income')\n",
    "plt.title(\"Scatterplot of Employees with deferred income\")\n",
    "plt.legend(loc='upper right')\n",
    "plt.show()"
   ]
  },
  {
   "cell_type": "markdown",
   "metadata": {},
   "source": [
    "### Email-Features\n",
    "Also it can be thought that for doing such a big scam the POI's might have frequent contact between them via E-mails so by checking on the number of  e-mails transferred between POIs and an Employee we can be able to guess for the involvement of that person in that scam. So finding the fraction of the mail from and to this person with respect to the POI.\n",
    "\n",
    "#### 1.  from_poi_to_this_person and from_this_person_to_poi"
   ]
  },
  {
   "cell_type": "code",
   "execution_count": 44,
   "metadata": {},
   "outputs": [
    {
     "data": {
      "image/png": "[encoded data removed]",
      "text/plain": [
       "<matplotlib.figure.Figure at 0xc18f048>"
      ]
     },
     "metadata": {},
     "output_type": "display_data"
    }
   ],
   "source": [
    "plt.scatter(enron_df_new['from_poi_to_this_person'][enron_df_new['poi'] == False],\n",
    "            enron_df_new['from_this_person_to_poi'][enron_df_new['poi'] == False],\n",
    "            color = 'b', label = 'Not-POI')\n",
    "\n",
    "plt.scatter(enron_df_new['from_poi_to_this_person'][enron_df_new['poi'] == True],\n",
    "            enron_df_new['from_this_person_to_poi'][enron_df_new['poi'] == True],\n",
    "            color = 'r', label = 'POI')\n",
    "\n",
    "    \n",
    "plt.xlabel('from_poi_to_this_person')\n",
    "plt.ylabel('from_this_person_to_poi')\n",
    "plt.title(\"Scatterplot of count of from and to mails between poi and this_person w.r.t POI\")\n",
    "plt.legend(loc='upper right')\n",
    "plt.show() "
   ]
  },
  {
   "cell_type": "markdown",
   "metadata": {},
   "source": [
    "#### Features created : fraction_mail_from_poi and fraction_mail_to_poi"
   ]
  },
  {
   "cell_type": "code",
   "execution_count": 45,
   "metadata": {
    "collapsed": true
   },
   "outputs": [],
   "source": [
    "enron_df_new['fraction_mail_from_poi'] = enron_df_new['from_poi_to_this_person']/enron_df_new['from_messages'] \n",
    "enron_df_new['fraction_mail_to_poi'] = enron_df_new['from_this_person_to_poi']/enron_df_new['to_messages']"
   ]
  },
  {
   "cell_type": "code",
   "execution_count": 46,
   "metadata": {},
   "outputs": [
    {
     "data": {
      "image/png": "[encoded data removed]",
      "text/plain": [
       "<matplotlib.figure.Figure at 0xb28efd0>"
      ]
     },
     "metadata": {},
     "output_type": "display_data"
    }
   ],
   "source": [
    "plt.scatter(enron_df_new['fraction_mail_from_poi'][enron_df_new['poi'] == False],\n",
    "            enron_df_new['fraction_mail_to_poi'][enron_df_new['poi'] == False],\n",
    "            color = 'b', label = 'Not-POI')\n",
    "\n",
    "plt.scatter(enron_df_new['fraction_mail_from_poi'][enron_df_new['poi'] == True],\n",
    "            enron_df_new['fraction_mail_to_poi'][enron_df_new['poi'] == True],\n",
    "            color = 'r', label = 'POI')\n",
    "\n",
    "    \n",
    "plt.xlabel('fraction_mail_from_poi')\n",
    "plt.ylabel('fraction_mail_to_poi')\n",
    "plt.title(\"Scatterplot of fraction of mails from and to between poi and this_person w.r.t POI\")\n",
    "plt.legend(loc='upper right')\n",
    "plt.show() "
   ]
  },
  {
   "cell_type": "markdown",
   "metadata": {
    "collapsed": true
   },
   "source": [
    "From the above figure, the difference between POIs and non-POIs points can be clearly classified.  \n",
    "\n",
    "So the total number of features in the dataframe after the data analysis is."
   ]
  },
  {
   "cell_type": "code",
   "execution_count": 47,
   "metadata": {},
   "outputs": [
    {
     "data": {
      "text/plain": [
       "Index([u'bonus', u'deferral_payments', u'deferred_income', u'director_fees',\n",
       "       u'exercised_stock_options', u'expenses', u'from_messages',\n",
       "       u'from_poi_to_this_person', u'from_this_person_to_poi',\n",
       "       u'loan_advances', u'long_term_incentive', u'other', u'poi',\n",
       "       u'restricted_stock', u'restricted_stock_deferred', u'salary',\n",
       "       u'shared_receipt_with_poi', u'to_messages', u'total_payments',\n",
       "       u'total_stock_value', u'bonus-to-salary_ratio',\n",
       "       u'fraction_mail_from_poi', u'fraction_mail_to_poi'],\n",
       "      dtype='object')"
      ]
     },
     "execution_count": 47,
     "metadata": {},
     "output_type": "execute_result"
    }
   ],
   "source": [
    "enron_df_new.columns"
   ]
  },
  {
   "cell_type": "code",
   "execution_count": 48,
   "metadata": {},
   "outputs": [
    {
     "data": {
      "text/plain": [
       "(141, 23)"
      ]
     },
     "execution_count": 48,
     "metadata": {},
     "output_type": "execute_result"
    }
   ],
   "source": [
    "enron_df_new.shape"
   ]
  },
  {
   "cell_type": "code",
   "execution_count": 49,
   "metadata": {},
   "outputs": [
    {
     "data": {
      "text/plain": [
       "array(['bonus', 'deferral_payments', 'deferred_income', 'director_fees',\n",
       "       'exercised_stock_options', 'expenses', 'from_messages',\n",
       "       'from_poi_to_this_person', 'from_this_person_to_poi',\n",
       "       'loan_advances', 'long_term_incentive', 'other', 'poi',\n",
       "       'restricted_stock', 'restricted_stock_deferred', 'salary',\n",
       "       'shared_receipt_with_poi', 'to_messages', 'total_payments',\n",
       "       'total_stock_value', 'bonus-to-salary_ratio',\n",
       "       'fraction_mail_from_poi', 'fraction_mail_to_poi'], dtype=object)"
      ]
     },
     "execution_count": 49,
     "metadata": {},
     "output_type": "execute_result"
    }
   ],
   "source": [
    "new_features_list = enron_df_new.columns.values\n",
    "new_features_list"
   ]
  },
  {
   "cell_type": "code",
   "execution_count": 50,
   "metadata": {
    "collapsed": true
   },
   "outputs": [],
   "source": [
    "#clean all 'inf' values which we got if the person's from_messages = 0\n",
    "enron_df_new = enron_df_new.replace('inf', 0)\n",
    "enron_df_new = enron_df_new.fillna(0)\n",
    "# Converting the above modified dataframe to a dictionary\n",
    "enron_dict = enron_df_new.to_dict('index')"
   ]
  },
  {
   "cell_type": "code",
   "execution_count": 51,
   "metadata": {},
   "outputs": [
    {
     "name": "stdout",
     "output_type": "stream",
     "text": [
      "Features of modified data_dictionary  \n",
      "\n",
      "Total number of datapoints :  141\n",
      "Total number of features :  23\n"
     ]
    }
   ],
   "source": [
    "print \"Features of modified data_dictionary  \\n\"\n",
    "print \"Total number of datapoints : \",len(enron_dict)\n",
    "print \"Total number of features : \",len(enron_dict['METTS MARK'])"
   ]
  },
  {
   "cell_type": "code",
   "execution_count": 52,
   "metadata": {},
   "outputs": [
    {
     "name": "stdout",
     "output_type": "stream",
     "text": [
      "METTS MARK\n",
      "\n",
      "\n",
      "to_messages\n",
      "deferral_payments\n",
      "expenses\n",
      "poi\n",
      "long_term_incentive\n",
      "shared_receipt_with_poi\n",
      "from_poi_to_this_person\n",
      "deferred_income\n",
      "restricted_stock_deferred\n",
      "bonus-to-salary_ratio\n",
      "loan_advances\n",
      "from_messages\n",
      "other\n",
      "director_fees\n",
      "fraction_mail_from_poi\n",
      "bonus\n",
      "total_stock_value\n",
      "from_this_person_to_poi\n",
      "restricted_stock\n",
      "salary\n",
      "total_payments\n",
      "fraction_mail_to_poi\n",
      "exercised_stock_options\n"
     ]
    }
   ],
   "source": [
    "for key, value in enron_dict.iteritems():\n",
    "    print key\n",
    "    print \"\\n\"\n",
    "    for val in enron_dict[key].keys():\n",
    "        print val\n",
    "    break\n"
   ]
  },
  {
   "cell_type": "code",
   "execution_count": 53,
   "metadata": {
    "collapsed": true
   },
   "outputs": [],
   "source": [
    "# Store to my_dataset for easy export below.\n",
    "my_dataset = enron_dict"
   ]
  },
  {
   "cell_type": "code",
   "execution_count": 54,
   "metadata": {
    "collapsed": true
   },
   "outputs": [],
   "source": [
    "## Selecting features which i think might be important\n",
    "features_list = ['poi', 'salary', 'bonus', 'long_term_incentive', 'bonus-to-salary_ratio', 'deferral_payments', 'expenses', \n",
    "                 'restricted_stock_deferred', 'restricted_stock', 'deferred_income','fraction_mail_from_poi', 'total_payments',\n",
    "                 'other', 'fraction_mail_to_poi', 'from_poi_to_this_person', 'from_this_person_to_poi', 'to_messages', \n",
    "                 'from_messages', 'shared_receipt_with_poi', 'loan_advances', 'director_fees', 'exercised_stock_options',\n",
    "                'total_stock_value', 'restricted_stock']"
   ]
  },
  {
   "cell_type": "code",
   "execution_count": 66,
   "metadata": {},
   "outputs": [
    {
     "data": {
      "text/plain": [
       "24"
      ]
     },
     "execution_count": 66,
     "metadata": {},
     "output_type": "execute_result"
    }
   ],
   "source": [
    "len(features_list)"
   ]
  },
  {
   "cell_type": "code",
   "execution_count": 55,
   "metadata": {
    "collapsed": true
   },
   "outputs": [],
   "source": [
    "# Extract features and labels from dataset for local testing\n",
    "data = featureFormat(my_dataset, features_list, sort_keys = True)\n",
    "labels, features = targetFeatureSplit(data)"
   ]
  },
  {
   "cell_type": "markdown",
   "metadata": {},
   "source": [
    "# Task 4: Try a varity of classifiers"
   ]
  },
  {
   "cell_type": "code",
   "execution_count": 56,
   "metadata": {
    "collapsed": true
   },
   "outputs": [],
   "source": [
    "### split data into training and testing datasets\n",
    "from sklearn import cross_validation\n",
    "features_train, features_test, labels_train, labels_test = cross_validation.train_test_split(features, labels, test_size=0.3, \n",
    "                                                                                             random_state=42)\n",
    "\n",
    "# Stratified ShuffleSplit cross-validator\n",
    "from sklearn.model_selection import StratifiedShuffleSplit\n",
    "sss = StratifiedShuffleSplit(n_splits=100, test_size=0.3,random_state = 42)"
   ]
  },
  {
   "cell_type": "code",
   "execution_count": 57,
   "metadata": {
    "collapsed": true
   },
   "outputs": [],
   "source": [
    "# Importing modules for feature scaling and selection\n",
    "from sklearn.preprocessing import MinMaxScaler\n",
    "from sklearn.feature_selection import SelectKBest, f_classif\n",
    "from sklearn.decomposition import PCA\n",
    "from sklearn.pipeline import Pipeline\n",
    "from sklearn.model_selection import GridSearchCV"
   ]
  },
  {
   "cell_type": "code",
   "execution_count": 58,
   "metadata": {
    "collapsed": true
   },
   "outputs": [],
   "source": [
    "# Defining functions to be used via the pipeline\n",
    "scaler = MinMaxScaler()\n",
    "skb = SelectKBest(f_classif)\n",
    "pca = PCA()"
   ]
  },
  {
   "cell_type": "markdown",
   "metadata": {},
   "source": [
    "### Classifer 1 : Naive Bayes "
   ]
  },
  {
   "cell_type": "code",
   "execution_count": 169,
   "metadata": {},
   "outputs": [
    {
     "name": "stderr",
     "output_type": "stream",
     "text": [
      "C:\\Anaconda3\\envs\\py2_env\\lib\\site-packages\\sklearn\\feature_selection\\univariate_selection.py:113: UserWarning: Features [18] are constant.\n",
      "  UserWarning)\n",
      "C:\\Anaconda3\\envs\\py2_env\\lib\\site-packages\\sklearn\\feature_selection\\univariate_selection.py:114: RuntimeWarning: invalid value encountered in divide\n",
      "  f = msb / msw\n"
     ]
    },
    {
     "name": "stdout",
     "output_type": "stream",
     "text": [
      "training time:  6.548 s\n",
      "testing time:  0.003 s\n"
     ]
    }
   ],
   "source": [
    "from sklearn.naive_bayes import GaussianNB\n",
    "clf_gnb = GaussianNB()\n",
    "\n",
    "pipeline = Pipeline(steps = [(\"SKB\", skb), (\"NaiveBayes\",clf_gnb)])\n",
    "param_grid = {\"SKB__k\":[7,8,9,10,11,12,13,14,15,16,17,18,19]}\n",
    "\n",
    "grid = GridSearchCV(pipeline, param_grid, verbose = 0, cv = sss, scoring = 'f1')\n",
    "\n",
    "t0 = time()\n",
    "grid.fit(features, labels)\n",
    "print \"training time: \", round(time()-t0, 3), \"s\"\n",
    "\n",
    "# best algorithm\n",
    "clf = grid.best_estimator_\n",
    "\n",
    "t0 = time()\n",
    "# refit the best algorithm:\n",
    "clf.fit(features_train, labels_train)\n",
    "prediction = clf.predict(features_test)\n",
    "print \"testing time: \", round(time()-t0, 3), \"s\""
   ]
  },
  {
   "cell_type": "code",
   "execution_count": 170,
   "metadata": {},
   "outputs": [
    {
     "name": "stdout",
     "output_type": "stream",
     "text": [
      "Accuracy of GaussianNB classifer is  :  0.857142857143\n",
      "Precision of GaussianNB classifer is :  0.5\n",
      "Recall of GaussianNB classifer is    :  0.5\n",
      "f1-score of GaussianNB classifer is  :  0.5\n"
     ]
    }
   ],
   "source": [
    "print \"Accuracy of GaussianNB classifer is  : \",accuracy_score(labels_test, prediction)\n",
    "print \"Precision of GaussianNB classifer is : \",precision_score(prediction, labels_test)\n",
    "print \"Recall of GaussianNB classifer is    : \",recall_score(prediction, labels_test)\n",
    "print \"f1-score of GaussianNB classifer is  : \",f1_score(prediction, labels_test)"
   ]
  },
  {
   "cell_type": "code",
   "execution_count": 171,
   "metadata": {},
   "outputs": [
    {
     "data": {
      "text/plain": [
       "Pipeline(memory=None,\n",
       "     steps=[('SKB', SelectKBest(k=13, score_func=<function f_classif at 0x000000000B4AA198>)), ('NaiveBayes', GaussianNB(priors=None))])"
      ]
     },
     "execution_count": 171,
     "metadata": {},
     "output_type": "execute_result"
    }
   ],
   "source": [
    "grid.best_estimator_"
   ]
  },
  {
   "cell_type": "code",
   "execution_count": 172,
   "metadata": {},
   "outputs": [
    {
     "name": "stdout",
     "output_type": "stream",
     "text": [
      "Selected Features : \n",
      "['salary', 'bonus', 'long_term_incentive', 'bonus-to-salary_ratio', 'expenses', 'deferred_income', 'fraction_mail_from_poi', 'total_payments', 'other', 'shared_receipt_with_poi', 'loan_advances', 'exercised_stock_options', 'total_stock_value']\n"
     ]
    }
   ],
   "source": [
    "features_selected_bool = grid.best_estimator_.named_steps['SKB'].get_support()\n",
    "features_selected_list = [x for x,y in zip(features_list[1:], features_selected_bool) if y]\n",
    "print \"Selected Features : \\n\",features_selected_list"
   ]
  },
  {
   "cell_type": "code",
   "execution_count": 173,
   "metadata": {},
   "outputs": [
    {
     "data": {
      "text/plain": [
       "array([ 12.22577476,  12.43859125,  10.16452643,   9.8693666 ,\n",
       "         0.17417355,   5.72977612,   0.80951347,   3.0325899 ,\n",
       "        13.28758702,  10.59873318,   9.36104698,   9.14145825,\n",
       "         4.95067898,   4.06628   ,   2.18629651,   2.30636802,\n",
       "         0.06088887,   8.64902275,   7.65862709,   1.40909808,\n",
       "        11.16645325,  10.19178425,   3.0325899 ])"
      ]
     },
     "execution_count": 173,
     "metadata": {},
     "output_type": "execute_result"
    }
   ],
   "source": [
    "feature_scores =  grid.best_estimator_.named_steps['SKB'].scores_\n",
    "feature_scores"
   ]
  },
  {
   "cell_type": "code",
   "execution_count": 174,
   "metadata": {},
   "outputs": [
    {
     "data": {
      "text/plain": [
       "{'SKB__k': 13}"
      ]
     },
     "execution_count": 174,
     "metadata": {},
     "output_type": "execute_result"
    }
   ],
   "source": [
    "grid.best_params_"
   ]
  },
  {
   "cell_type": "code",
   "execution_count": 175,
   "metadata": {},
   "outputs": [
    {
     "name": "stdout",
     "output_type": "stream",
     "text": [
      "Selected Features : \n",
      "['salary', 'bonus', 'long_term_incentive', 'bonus-to-salary_ratio', 'expenses', 'deferred_income', 'fraction_mail_from_poi', 'total_payments', 'other', 'shared_receipt_with_poi', 'loan_advances', 'exercised_stock_options', 'total_stock_value']\n"
     ]
    },
    {
     "data": {
      "text/plain": [
       "array([ 12.22577476,  12.43859125,  10.16452643,   9.8693666 ,\n",
       "         5.72977612,  13.28758702,  10.59873318,   9.36104698,\n",
       "         9.14145825,   8.64902275,   7.65862709,  11.16645325,  10.19178425])"
      ]
     },
     "execution_count": 175,
     "metadata": {},
     "output_type": "execute_result"
    }
   ],
   "source": [
    "features_selected_bool = grid.best_estimator_.named_steps['SKB'].get_support()\n",
    "features_selected_list = [x for x,y in zip(features_list[1:], features_selected_bool) if y]\n",
    "print \"Selected Features : \\n\",features_selected_list\n",
    "feature_scores =  grid.best_estimator_.named_steps['SKB'].scores_\n",
    "feature_selected_scores = feature_scores[features_selected_bool]\n",
    "feature_selected_scores"
   ]
  },
  {
   "cell_type": "code",
   "execution_count": 176,
   "metadata": {},
   "outputs": [
    {
     "data": {
      "text/html": [
       "<div>\n",
       "<style>\n",
       "    .dataframe thead tr:only-child th {\n",
       "        text-align: right;\n",
       "    }\n",
       "\n",
       "    .dataframe thead th {\n",
       "        text-align: left;\n",
       "    }\n",
       "\n",
       "    .dataframe tbody tr th {\n",
       "        vertical-align: top;\n",
       "    }\n",
       "</style>\n",
       "<table border=\"1\" class=\"dataframe\">\n",
       "  <thead>\n",
       "    <tr style=\"text-align: right;\">\n",
       "      <th></th>\n",
       "      <th>Features_Selected</th>\n",
       "      <th>Features_score</th>\n",
       "    </tr>\n",
       "  </thead>\n",
       "  <tbody>\n",
       "    <tr>\n",
       "      <th>1</th>\n",
       "      <td>deferred_income</td>\n",
       "      <td>13.287587</td>\n",
       "    </tr>\n",
       "    <tr>\n",
       "      <th>2</th>\n",
       "      <td>bonus</td>\n",
       "      <td>12.438591</td>\n",
       "    </tr>\n",
       "    <tr>\n",
       "      <th>3</th>\n",
       "      <td>salary</td>\n",
       "      <td>12.225775</td>\n",
       "    </tr>\n",
       "    <tr>\n",
       "      <th>4</th>\n",
       "      <td>exercised_stock_options</td>\n",
       "      <td>11.166453</td>\n",
       "    </tr>\n",
       "    <tr>\n",
       "      <th>5</th>\n",
       "      <td>fraction_mail_from_poi</td>\n",
       "      <td>10.598733</td>\n",
       "    </tr>\n",
       "    <tr>\n",
       "      <th>6</th>\n",
       "      <td>total_stock_value</td>\n",
       "      <td>10.191784</td>\n",
       "    </tr>\n",
       "    <tr>\n",
       "      <th>7</th>\n",
       "      <td>long_term_incentive</td>\n",
       "      <td>10.164526</td>\n",
       "    </tr>\n",
       "    <tr>\n",
       "      <th>8</th>\n",
       "      <td>bonus-to-salary_ratio</td>\n",
       "      <td>9.869367</td>\n",
       "    </tr>\n",
       "    <tr>\n",
       "      <th>9</th>\n",
       "      <td>total_payments</td>\n",
       "      <td>9.361047</td>\n",
       "    </tr>\n",
       "    <tr>\n",
       "      <th>10</th>\n",
       "      <td>other</td>\n",
       "      <td>9.141458</td>\n",
       "    </tr>\n",
       "    <tr>\n",
       "      <th>11</th>\n",
       "      <td>shared_receipt_with_poi</td>\n",
       "      <td>8.649023</td>\n",
       "    </tr>\n",
       "    <tr>\n",
       "      <th>12</th>\n",
       "      <td>loan_advances</td>\n",
       "      <td>7.658627</td>\n",
       "    </tr>\n",
       "    <tr>\n",
       "      <th>13</th>\n",
       "      <td>expenses</td>\n",
       "      <td>5.729776</td>\n",
       "    </tr>\n",
       "  </tbody>\n",
       "</table>\n",
       "</div>"
      ],
      "text/plain": [
       "          Features_Selected  Features_score\n",
       "1           deferred_income       13.287587\n",
       "2                     bonus       12.438591\n",
       "3                    salary       12.225775\n",
       "4   exercised_stock_options       11.166453\n",
       "5    fraction_mail_from_poi       10.598733\n",
       "6         total_stock_value       10.191784\n",
       "7       long_term_incentive       10.164526\n",
       "8     bonus-to-salary_ratio        9.869367\n",
       "9            total_payments        9.361047\n",
       "10                    other        9.141458\n",
       "11  shared_receipt_with_poi        8.649023\n",
       "12            loan_advances        7.658627\n",
       "13                 expenses        5.729776"
      ]
     },
     "execution_count": 176,
     "metadata": {},
     "output_type": "execute_result"
    }
   ],
   "source": [
    "imp_features_df = pd.DataFrame({'Features_Selected':features_selected_list, 'Features_score':feature_selected_scores})\n",
    "imp_features_df.sort_values('Features_score', ascending = False,inplace = True)\n",
    "Rank = pd.Series(list(range(1,len(features_selected_list)+1)))\n",
    "imp_features_df.set_index(Rank, inplace = True)\n",
    "imp_features_df"
   ]
  },
  {
   "cell_type": "markdown",
   "metadata": {
    "collapsed": true
   },
   "source": [
    "## Classifier 2 : Decision Tree without PCA"
   ]
  },
  {
   "cell_type": "code",
   "execution_count": 177,
   "metadata": {},
   "outputs": [
    {
     "name": "stdout",
     "output_type": "stream",
     "text": [
      "training time:  70.128 s\n",
      "testing time:  0.004 s\n",
      "Accuracy of DT classifer is  :  0.833333333333\n",
      "Precision of DT classifer is :  0.333333333333\n",
      "Recall of DT classifer is    :  0.4\n",
      "f1-score of DT classifer is  :  0.363636363636\n"
     ]
    }
   ],
   "source": [
    "from sklearn.tree import DecisionTreeClassifier\n",
    "clf_dtree = DecisionTreeClassifier()\n",
    "\n",
    "pipeline = Pipeline(steps = [(\"SKB\", skb), (\"dtree\",clf_dtree)])\n",
    "param_grid = {\"SKB__k\":[7,8,9,10,11,12,13,14,15,16,17,18,19],\n",
    "              \"dtree__criterion\": [\"gini\", \"entropy\"],\n",
    "              \"dtree__min_samples_split\": [2, 4, 8, 10]}\n",
    "\n",
    "\n",
    "grid = GridSearchCV(pipeline, param_grid, verbose = 0, cv = sss, scoring = 'f1')\n",
    "\n",
    "t0 = time()\n",
    "#clf = clf.fit(features_train, labels_train)\n",
    "grid.fit(features, labels)\n",
    "print \"training time: \", round(time()-t0, 3), \"s\"\n",
    "\n",
    "# best algorithm\n",
    "clf = grid.best_estimator_\n",
    "\n",
    "t0 = time()\n",
    "# refit the best algorithm:\n",
    "clf.fit(features_train, labels_train)\n",
    "prediction = clf.predict(features_test)\n",
    "print \"testing time: \", round(time()-t0, 3), \"s\"\n",
    "\n",
    "print \"Accuracy of DT classifer is  : \",accuracy_score(labels_test, prediction)\n",
    "print \"Precision of DT classifer is : \",precision_score(prediction, labels_test)\n",
    "print \"Recall of DT classifer is    : \",recall_score(prediction, labels_test)\n",
    "print \"f1-score of DT classifer is  : \",f1_score(prediction, labels_test)"
   ]
  },
  {
   "cell_type": "code",
   "execution_count": 178,
   "metadata": {},
   "outputs": [
    {
     "name": "stdout",
     "output_type": "stream",
     "text": [
      "Best criterion: entropy\n"
     ]
    }
   ],
   "source": [
    "# View the best parameters for the model found using grid search\n",
    "print 'Best criterion:',grid.best_estimator_.named_steps['dtree'].criterion"
   ]
  },
  {
   "cell_type": "code",
   "execution_count": 179,
   "metadata": {},
   "outputs": [
    {
     "data": {
      "text/plain": [
       "{'SKB__k': 14, 'dtree__criterion': 'entropy', 'dtree__min_samples_split': 4}"
      ]
     },
     "execution_count": 179,
     "metadata": {},
     "output_type": "execute_result"
    }
   ],
   "source": [
    "grid.best_params_"
   ]
  },
  {
   "cell_type": "code",
   "execution_count": 180,
   "metadata": {},
   "outputs": [
    {
     "data": {
      "text/plain": [
       "Pipeline(memory=None,\n",
       "     steps=[('SKB', SelectKBest(k=14, score_func=<function f_classif at 0x000000000B4AA198>)), ('dtree', DecisionTreeClassifier(class_weight=None, criterion='entropy', max_depth=None,\n",
       "            max_features=None, max_leaf_nodes=None,\n",
       "            min_impurity_decrease=0.0, min_impurity_split=None,\n",
       "            min_samples_leaf=1, min_samples_split=4,\n",
       "            min_weight_fraction_leaf=0.0, presort=False, random_state=None,\n",
       "            splitter='best'))])"
      ]
     },
     "execution_count": 180,
     "metadata": {},
     "output_type": "execute_result"
    }
   ],
   "source": [
    "grid.best_estimator_"
   ]
  },
  {
   "cell_type": "code",
   "execution_count": 181,
   "metadata": {},
   "outputs": [
    {
     "name": "stdout",
     "output_type": "stream",
     "text": [
      "Selected Features : \n",
      "['salary', 'bonus', 'long_term_incentive', 'bonus-to-salary_ratio', 'expenses', 'deferred_income', 'fraction_mail_from_poi', 'total_payments', 'other', 'fraction_mail_to_poi', 'shared_receipt_with_poi', 'loan_advances', 'exercised_stock_options', 'total_stock_value']\n"
     ]
    }
   ],
   "source": [
    "features_selected_bool = grid.best_estimator_.named_steps['SKB'].get_support()\n",
    "features_selected_list = [x for x,y in zip(features_list[1:], features_selected_bool) if y]\n",
    "print \"Selected Features : \\n\",features_selected_list"
   ]
  },
  {
   "cell_type": "code",
   "execution_count": 182,
   "metadata": {},
   "outputs": [
    {
     "data": {
      "text/plain": [
       "array([ 12.22577476,  12.43859125,  10.16452643,   9.8693666 ,\n",
       "         0.17417355,   5.72977612,   0.80951347,   3.0325899 ,\n",
       "        13.28758702,  10.59873318,   9.36104698,   9.14145825,\n",
       "         4.95067898,   4.06628   ,   2.18629651,   2.30636802,\n",
       "         0.06088887,   8.64902275,   7.65862709,   1.40909808,\n",
       "        11.16645325,  10.19178425,   3.0325899 ])"
      ]
     },
     "execution_count": 182,
     "metadata": {},
     "output_type": "execute_result"
    }
   ],
   "source": [
    "feature_scores =  grid.best_estimator_.named_steps['SKB'].scores_\n",
    "feature_scores"
   ]
  },
  {
   "cell_type": "code",
   "execution_count": 183,
   "metadata": {},
   "outputs": [
    {
     "name": "stdout",
     "output_type": "stream",
     "text": [
      "Selected Features : \n",
      "['salary', 'bonus', 'long_term_incentive', 'bonus-to-salary_ratio', 'expenses', 'deferred_income', 'fraction_mail_from_poi', 'total_payments', 'other', 'fraction_mail_to_poi', 'shared_receipt_with_poi', 'loan_advances', 'exercised_stock_options', 'total_stock_value']\n"
     ]
    },
    {
     "data": {
      "text/plain": [
       "array([ 12.22577476,  12.43859125,  10.16452643,   9.8693666 ,\n",
       "         5.72977612,  13.28758702,  10.59873318,   9.36104698,\n",
       "         9.14145825,   4.95067898,   8.64902275,   7.65862709,\n",
       "        11.16645325,  10.19178425])"
      ]
     },
     "execution_count": 183,
     "metadata": {},
     "output_type": "execute_result"
    }
   ],
   "source": [
    "features_selected_bool = grid.best_estimator_.named_steps['SKB'].get_support()\n",
    "features_selected_list = [x for x,y in zip(features_list[1:], features_selected_bool) if y]\n",
    "print \"Selected Features : \\n\",features_selected_list\n",
    "feature_scores =  grid.best_estimator_.named_steps['SKB'].scores_\n",
    "feature_selected_scores = feature_scores[features_selected_bool]\n",
    "feature_selected_scores"
   ]
  },
  {
   "cell_type": "code",
   "execution_count": 184,
   "metadata": {},
   "outputs": [
    {
     "data": {
      "text/html": [
       "<div>\n",
       "<style>\n",
       "    .dataframe thead tr:only-child th {\n",
       "        text-align: right;\n",
       "    }\n",
       "\n",
       "    .dataframe thead th {\n",
       "        text-align: left;\n",
       "    }\n",
       "\n",
       "    .dataframe tbody tr th {\n",
       "        vertical-align: top;\n",
       "    }\n",
       "</style>\n",
       "<table border=\"1\" class=\"dataframe\">\n",
       "  <thead>\n",
       "    <tr style=\"text-align: right;\">\n",
       "      <th></th>\n",
       "      <th>Features_Selected</th>\n",
       "      <th>Features_score</th>\n",
       "    </tr>\n",
       "  </thead>\n",
       "  <tbody>\n",
       "    <tr>\n",
       "      <th>1</th>\n",
       "      <td>deferred_income</td>\n",
       "      <td>13.287587</td>\n",
       "    </tr>\n",
       "    <tr>\n",
       "      <th>2</th>\n",
       "      <td>bonus</td>\n",
       "      <td>12.438591</td>\n",
       "    </tr>\n",
       "    <tr>\n",
       "      <th>3</th>\n",
       "      <td>salary</td>\n",
       "      <td>12.225775</td>\n",
       "    </tr>\n",
       "    <tr>\n",
       "      <th>4</th>\n",
       "      <td>exercised_stock_options</td>\n",
       "      <td>11.166453</td>\n",
       "    </tr>\n",
       "    <tr>\n",
       "      <th>5</th>\n",
       "      <td>fraction_mail_from_poi</td>\n",
       "      <td>10.598733</td>\n",
       "    </tr>\n",
       "    <tr>\n",
       "      <th>6</th>\n",
       "      <td>total_stock_value</td>\n",
       "      <td>10.191784</td>\n",
       "    </tr>\n",
       "    <tr>\n",
       "      <th>7</th>\n",
       "      <td>long_term_incentive</td>\n",
       "      <td>10.164526</td>\n",
       "    </tr>\n",
       "    <tr>\n",
       "      <th>8</th>\n",
       "      <td>bonus-to-salary_ratio</td>\n",
       "      <td>9.869367</td>\n",
       "    </tr>\n",
       "    <tr>\n",
       "      <th>9</th>\n",
       "      <td>total_payments</td>\n",
       "      <td>9.361047</td>\n",
       "    </tr>\n",
       "    <tr>\n",
       "      <th>10</th>\n",
       "      <td>other</td>\n",
       "      <td>9.141458</td>\n",
       "    </tr>\n",
       "    <tr>\n",
       "      <th>11</th>\n",
       "      <td>shared_receipt_with_poi</td>\n",
       "      <td>8.649023</td>\n",
       "    </tr>\n",
       "    <tr>\n",
       "      <th>12</th>\n",
       "      <td>loan_advances</td>\n",
       "      <td>7.658627</td>\n",
       "    </tr>\n",
       "    <tr>\n",
       "      <th>13</th>\n",
       "      <td>expenses</td>\n",
       "      <td>5.729776</td>\n",
       "    </tr>\n",
       "    <tr>\n",
       "      <th>14</th>\n",
       "      <td>fraction_mail_to_poi</td>\n",
       "      <td>4.950679</td>\n",
       "    </tr>\n",
       "  </tbody>\n",
       "</table>\n",
       "</div>"
      ],
      "text/plain": [
       "          Features_Selected  Features_score\n",
       "1           deferred_income       13.287587\n",
       "2                     bonus       12.438591\n",
       "3                    salary       12.225775\n",
       "4   exercised_stock_options       11.166453\n",
       "5    fraction_mail_from_poi       10.598733\n",
       "6         total_stock_value       10.191784\n",
       "7       long_term_incentive       10.164526\n",
       "8     bonus-to-salary_ratio        9.869367\n",
       "9            total_payments        9.361047\n",
       "10                    other        9.141458\n",
       "11  shared_receipt_with_poi        8.649023\n",
       "12            loan_advances        7.658627\n",
       "13                 expenses        5.729776\n",
       "14     fraction_mail_to_poi        4.950679"
      ]
     },
     "execution_count": 184,
     "metadata": {},
     "output_type": "execute_result"
    }
   ],
   "source": [
    "imp_features_df = pd.DataFrame({'Features_Selected':features_selected_list, 'Features_score':feature_selected_scores})\n",
    "imp_features_df.sort_values('Features_score', ascending = False,inplace = True)\n",
    "Rank = pd.Series(list(range(1,len(features_selected_list)+1)))\n",
    "imp_features_df.set_index(Rank, inplace = True)\n",
    "imp_features_df"
   ]
  },
  {
   "cell_type": "markdown",
   "metadata": {},
   "source": [
    "## DT using KBest and PCA"
   ]
  },
  {
   "cell_type": "code",
   "execution_count": 185,
   "metadata": {},
   "outputs": [
    {
     "name": "stdout",
     "output_type": "stream",
     "text": [
      "training time:  535.2 s\n",
      "testing time:  0.004 s\n",
      "Accuracy of DT classifer is  :  0.809523809524\n",
      "Precision of DT classifer is :  0.0\n",
      "Recall of DT classifer is    :  0.0\n",
      "f1-score of DT classifer is  :  0.0\n"
     ]
    }
   ],
   "source": [
    "from sklearn.tree import DecisionTreeClassifier\n",
    "clf_dtree = DecisionTreeClassifier()\n",
    "\n",
    "pipeline = Pipeline(steps = [(\"SKB\", skb), (\"PCA\",pca), (\"dtree\",clf_dtree)])\n",
    "param_grid = {\"SKB__k\":[7,8,9,10,11,12,13,14,15,16,17,18], \n",
    "              \"PCA__n_components\":[2,3,4,5,6,7],\n",
    "              \"PCA__whiten\":[True],\n",
    "              \"dtree__criterion\": [\"gini\", \"entropy\"],\n",
    "              \"dtree__min_samples_split\": [2, 4, 8, 10]}\n",
    "\n",
    "\n",
    "grid = GridSearchCV(pipeline, param_grid, verbose = 0, cv = sss, scoring = 'f1')\n",
    "\n",
    "t0 = time()\n",
    "#clf = clf.fit(features_train, labels_train)\n",
    "grid.fit(features, labels)\n",
    "print \"training time: \", round(time()-t0, 3), \"s\"\n",
    "\n",
    "# best algorithm\n",
    "clf = grid.best_estimator_\n",
    "\n",
    "t0 = time()\n",
    "# refit the best algorithm:\n",
    "clf.fit(features_train, labels_train)\n",
    "prediction = clf.predict(features_test)\n",
    "print \"testing time: \", round(time()-t0, 3), \"s\"\n",
    "\n",
    "print \"Accuracy of DT classifer is  : \",accuracy_score(labels_test, prediction)\n",
    "print \"Precision of DT classifer is : \",precision_score(prediction, labels_test)\n",
    "print \"Recall of DT classifer is    : \",recall_score(prediction, labels_test)\n",
    "print \"f1-score of DT classifer is  : \",f1_score(prediction, labels_test)"
   ]
  },
  {
   "cell_type": "code",
   "execution_count": 186,
   "metadata": {},
   "outputs": [
    {
     "name": "stdout",
     "output_type": "stream",
     "text": [
      "Best criterion: gini\n"
     ]
    }
   ],
   "source": [
    "# View the best parameters for the model found using grid search\n",
    "print 'Best criterion:',grid.best_estimator_.named_steps['dtree'].criterion"
   ]
  },
  {
   "cell_type": "code",
   "execution_count": 187,
   "metadata": {},
   "outputs": [
    {
     "data": {
      "text/plain": [
       "{'PCA__n_components': 3,\n",
       " 'PCA__whiten': True,\n",
       " 'SKB__k': 16,\n",
       " 'dtree__criterion': 'gini',\n",
       " 'dtree__min_samples_split': 8}"
      ]
     },
     "execution_count": 187,
     "metadata": {},
     "output_type": "execute_result"
    }
   ],
   "source": [
    "grid.best_params_"
   ]
  },
  {
   "cell_type": "code",
   "execution_count": 188,
   "metadata": {},
   "outputs": [
    {
     "data": {
      "text/plain": [
       "Pipeline(memory=None,\n",
       "     steps=[('SKB', SelectKBest(k=16, score_func=<function f_classif at 0x000000000B4AA198>)), ('PCA', PCA(copy=True, iterated_power='auto', n_components=3, random_state=None,\n",
       "  svd_solver='auto', tol=0.0, whiten=True)), ('dtree', DecisionTreeClassifier(class_weight=None, criterion='gini', max_depth=None...      min_weight_fraction_leaf=0.0, presort=False, random_state=None,\n",
       "            splitter='best'))])"
      ]
     },
     "execution_count": 188,
     "metadata": {},
     "output_type": "execute_result"
    }
   ],
   "source": [
    "grid.best_estimator_"
   ]
  },
  {
   "cell_type": "code",
   "execution_count": 189,
   "metadata": {},
   "outputs": [
    {
     "name": "stdout",
     "output_type": "stream",
     "text": [
      "Selected Features : \n",
      "['salary', 'bonus', 'long_term_incentive', 'bonus-to-salary_ratio', 'expenses', 'deferred_income', 'fraction_mail_from_poi', 'total_payments', 'other', 'fraction_mail_to_poi', 'from_poi_to_this_person', 'shared_receipt_with_poi', 'loan_advances', 'exercised_stock_options', 'total_stock_value', 'restricted_stock']\n"
     ]
    }
   ],
   "source": [
    "features_selected_bool = grid.best_estimator_.named_steps['SKB'].get_support()\n",
    "features_selected_list = [x for x,y in zip(features_list[1:], features_selected_bool) if y]\n",
    "print \"Selected Features : \\n\",features_selected_list"
   ]
  },
  {
   "cell_type": "code",
   "execution_count": 190,
   "metadata": {},
   "outputs": [
    {
     "data": {
      "text/plain": [
       "array([ 12.22577476,  12.43859125,  10.16452643,   9.8693666 ,\n",
       "         0.17417355,   5.72977612,   0.80951347,   3.0325899 ,\n",
       "        13.28758702,  10.59873318,   9.36104698,   9.14145825,\n",
       "         4.95067898,   4.06628   ,   2.18629651,   2.30636802,\n",
       "         0.06088887,   8.64902275,   7.65862709,   1.40909808,\n",
       "        11.16645325,  10.19178425,   3.0325899 ])"
      ]
     },
     "execution_count": 190,
     "metadata": {},
     "output_type": "execute_result"
    }
   ],
   "source": [
    "feature_scores =  grid.best_estimator_.named_steps['SKB'].scores_\n",
    "feature_scores"
   ]
  },
  {
   "cell_type": "code",
   "execution_count": 191,
   "metadata": {},
   "outputs": [
    {
     "name": "stdout",
     "output_type": "stream",
     "text": [
      "Selected Features : \n",
      "['salary', 'bonus', 'long_term_incentive', 'bonus-to-salary_ratio', 'expenses', 'deferred_income', 'fraction_mail_from_poi', 'total_payments', 'other', 'fraction_mail_to_poi', 'from_poi_to_this_person', 'shared_receipt_with_poi', 'loan_advances', 'exercised_stock_options', 'total_stock_value', 'restricted_stock']\n"
     ]
    },
    {
     "data": {
      "text/plain": [
       "array([ 12.22577476,  12.43859125,  10.16452643,   9.8693666 ,\n",
       "         5.72977612,  13.28758702,  10.59873318,   9.36104698,\n",
       "         9.14145825,   4.95067898,   4.06628   ,   8.64902275,\n",
       "         7.65862709,  11.16645325,  10.19178425,   3.0325899 ])"
      ]
     },
     "execution_count": 191,
     "metadata": {},
     "output_type": "execute_result"
    }
   ],
   "source": [
    "features_selected_bool = grid.best_estimator_.named_steps['SKB'].get_support()\n",
    "features_selected_list = [x for x,y in zip(features_list[1:], features_selected_bool) if y]\n",
    "print \"Selected Features : \\n\",features_selected_list\n",
    "feature_scores =  grid.best_estimator_.named_steps['SKB'].scores_\n",
    "feature_selected_scores = feature_scores[features_selected_bool]\n",
    "feature_selected_scores"
   ]
  },
  {
   "cell_type": "code",
   "execution_count": 192,
   "metadata": {},
   "outputs": [
    {
     "data": {
      "text/html": [
       "<div>\n",
       "<style>\n",
       "    .dataframe thead tr:only-child th {\n",
       "        text-align: right;\n",
       "    }\n",
       "\n",
       "    .dataframe thead th {\n",
       "        text-align: left;\n",
       "    }\n",
       "\n",
       "    .dataframe tbody tr th {\n",
       "        vertical-align: top;\n",
       "    }\n",
       "</style>\n",
       "<table border=\"1\" class=\"dataframe\">\n",
       "  <thead>\n",
       "    <tr style=\"text-align: right;\">\n",
       "      <th></th>\n",
       "      <th>Features_Selected</th>\n",
       "      <th>Features_score</th>\n",
       "    </tr>\n",
       "  </thead>\n",
       "  <tbody>\n",
       "    <tr>\n",
       "      <th>1</th>\n",
       "      <td>deferred_income</td>\n",
       "      <td>13.287587</td>\n",
       "    </tr>\n",
       "    <tr>\n",
       "      <th>2</th>\n",
       "      <td>bonus</td>\n",
       "      <td>12.438591</td>\n",
       "    </tr>\n",
       "    <tr>\n",
       "      <th>3</th>\n",
       "      <td>salary</td>\n",
       "      <td>12.225775</td>\n",
       "    </tr>\n",
       "    <tr>\n",
       "      <th>4</th>\n",
       "      <td>exercised_stock_options</td>\n",
       "      <td>11.166453</td>\n",
       "    </tr>\n",
       "    <tr>\n",
       "      <th>5</th>\n",
       "      <td>fraction_mail_from_poi</td>\n",
       "      <td>10.598733</td>\n",
       "    </tr>\n",
       "    <tr>\n",
       "      <th>6</th>\n",
       "      <td>total_stock_value</td>\n",
       "      <td>10.191784</td>\n",
       "    </tr>\n",
       "    <tr>\n",
       "      <th>7</th>\n",
       "      <td>long_term_incentive</td>\n",
       "      <td>10.164526</td>\n",
       "    </tr>\n",
       "    <tr>\n",
       "      <th>8</th>\n",
       "      <td>bonus-to-salary_ratio</td>\n",
       "      <td>9.869367</td>\n",
       "    </tr>\n",
       "    <tr>\n",
       "      <th>9</th>\n",
       "      <td>total_payments</td>\n",
       "      <td>9.361047</td>\n",
       "    </tr>\n",
       "    <tr>\n",
       "      <th>10</th>\n",
       "      <td>other</td>\n",
       "      <td>9.141458</td>\n",
       "    </tr>\n",
       "    <tr>\n",
       "      <th>11</th>\n",
       "      <td>shared_receipt_with_poi</td>\n",
       "      <td>8.649023</td>\n",
       "    </tr>\n",
       "    <tr>\n",
       "      <th>12</th>\n",
       "      <td>loan_advances</td>\n",
       "      <td>7.658627</td>\n",
       "    </tr>\n",
       "    <tr>\n",
       "      <th>13</th>\n",
       "      <td>expenses</td>\n",
       "      <td>5.729776</td>\n",
       "    </tr>\n",
       "    <tr>\n",
       "      <th>14</th>\n",
       "      <td>fraction_mail_to_poi</td>\n",
       "      <td>4.950679</td>\n",
       "    </tr>\n",
       "    <tr>\n",
       "      <th>15</th>\n",
       "      <td>from_poi_to_this_person</td>\n",
       "      <td>4.066280</td>\n",
       "    </tr>\n",
       "    <tr>\n",
       "      <th>16</th>\n",
       "      <td>restricted_stock</td>\n",
       "      <td>3.032590</td>\n",
       "    </tr>\n",
       "  </tbody>\n",
       "</table>\n",
       "</div>"
      ],
      "text/plain": [
       "          Features_Selected  Features_score\n",
       "1           deferred_income       13.287587\n",
       "2                     bonus       12.438591\n",
       "3                    salary       12.225775\n",
       "4   exercised_stock_options       11.166453\n",
       "5    fraction_mail_from_poi       10.598733\n",
       "6         total_stock_value       10.191784\n",
       "7       long_term_incentive       10.164526\n",
       "8     bonus-to-salary_ratio        9.869367\n",
       "9            total_payments        9.361047\n",
       "10                    other        9.141458\n",
       "11  shared_receipt_with_poi        8.649023\n",
       "12            loan_advances        7.658627\n",
       "13                 expenses        5.729776\n",
       "14     fraction_mail_to_poi        4.950679\n",
       "15  from_poi_to_this_person        4.066280\n",
       "16         restricted_stock        3.032590"
      ]
     },
     "execution_count": 192,
     "metadata": {},
     "output_type": "execute_result"
    }
   ],
   "source": [
    "imp_features_df = pd.DataFrame({'Features_Selected':features_selected_list, 'Features_score':feature_selected_scores})\n",
    "imp_features_df.sort_values('Features_score', ascending = False,inplace = True)\n",
    "Rank = pd.Series(list(range(1,len(features_selected_list)+1)))\n",
    "imp_features_df.set_index(Rank, inplace = True)\n",
    "imp_features_df"
   ]
  },
  {
   "cell_type": "markdown",
   "metadata": {},
   "source": [
    "## Classifier 5 : KNN with PCA"
   ]
  },
  {
   "cell_type": "code",
   "execution_count": 193,
   "metadata": {},
   "outputs": [
    {
     "name": "stdout",
     "output_type": "stream",
     "text": [
      "training time:  62.817 s\n",
      "testing time:  0.004 s\n",
      "Accuracy of DT classifer is  :  0.809523809524\n",
      "Precision of DT classifer is :  0.0\n",
      "Recall of DT classifer is    :  0.0\n",
      "f1-score of DT classifer is  :  0.0\n"
     ]
    }
   ],
   "source": [
    "from sklearn.neighbors import KNeighborsClassifier\n",
    "clf_knn = KNeighborsClassifier()\n",
    "\n",
    "sss = StratifiedShuffleSplit(n_splits=10, test_size=0.3,random_state = 42)\n",
    "pipeline = Pipeline(steps = [(\"scaling\", scaler), (\"SKB\", skb), (\"PCA\",pca), (\"knn\",clf_knn)])\n",
    "param_grid = {\"SKB__k\":[7,8,9,10,11,12,13,14,15, 16, 17, 18], \n",
    "              \"PCA__n_components\":[2,3,4,5,6,7],\n",
    "              \"PCA__whiten\":[True],\n",
    "              \"knn__n_neighbors\": [3,4,5,6,7,8,9,11],\n",
    "              #\"knn__weights\": ['uniform','distance'],\n",
    "              #\"knn__algorithm\": ['auto', 'ball_tree', 'kd_tree', 'brute']\n",
    "              }\n",
    "\n",
    "grid = GridSearchCV(pipeline, param_grid, verbose = 0, cv = sss, scoring = 'f1')\n",
    "\n",
    "t0 = time()\n",
    "#clf = clf.fit(features_train, labels_train)\n",
    "grid.fit(features, labels)\n",
    "print \"training time: \", round(time()-t0, 3), \"s\"\n",
    "\n",
    "# best algorithm\n",
    "clf = grid.best_estimator_\n",
    "\n",
    "t0 = time()\n",
    "# refit the best algorithm:\n",
    "clf.fit(features_train, labels_train)\n",
    "prediction = clf.predict(features_test)\n",
    "print \"testing time: \", round(time()-t0, 3), \"s\"\n",
    "\n",
    "print \"Accuracy of DT classifer is  : \",accuracy_score(labels_test, prediction)\n",
    "print \"Precision of DT classifer is : \",precision_score(prediction, labels_test)\n",
    "print \"Recall of DT classifer is    : \",recall_score(prediction, labels_test)\n",
    "print \"f1-score of DT classifer is  : \",f1_score(prediction, labels_test)"
   ]
  },
  {
   "cell_type": "code",
   "execution_count": 194,
   "metadata": {},
   "outputs": [
    {
     "data": {
      "text/plain": [
       "{'PCA__n_components': 2,\n",
       " 'PCA__whiten': True,\n",
       " 'SKB__k': 11,\n",
       " 'knn__n_neighbors': 5}"
      ]
     },
     "execution_count": 194,
     "metadata": {},
     "output_type": "execute_result"
    }
   ],
   "source": [
    "grid.best_params_"
   ]
  },
  {
   "cell_type": "code",
   "execution_count": 195,
   "metadata": {},
   "outputs": [
    {
     "data": {
      "text/plain": [
       "Pipeline(memory=None,\n",
       "     steps=[('scaling', MinMaxScaler(copy=True, feature_range=(0, 1))), ('SKB', SelectKBest(k=11, score_func=<function f_classif at 0x000000000B4AA198>)), ('PCA', PCA(copy=True, iterated_power='auto', n_components=2, random_state=None,\n",
       "  svd_solver='auto', tol=0.0, whiten=True)), ('knn', KNeighborsClassifier(algorithm='auto', leaf_size=30, metric='minkowski',\n",
       "           metric_params=None, n_jobs=1, n_neighbors=5, p=2,\n",
       "           weights='uniform'))])"
      ]
     },
     "execution_count": 195,
     "metadata": {},
     "output_type": "execute_result"
    }
   ],
   "source": [
    "grid.best_estimator_"
   ]
  },
  {
   "cell_type": "code",
   "execution_count": 196,
   "metadata": {},
   "outputs": [
    {
     "name": "stdout",
     "output_type": "stream",
     "text": [
      "Selected Features : \n",
      "['salary', 'bonus', 'long_term_incentive', 'bonus-to-salary_ratio', 'deferred_income', 'fraction_mail_from_poi', 'total_payments', 'other', 'shared_receipt_with_poi', 'exercised_stock_options', 'total_stock_value']\n"
     ]
    }
   ],
   "source": [
    "features_selected_bool = grid.best_estimator_.named_steps['SKB'].get_support()\n",
    "features_selected_list = [x for x,y in zip(features_list[1:], features_selected_bool) if y]\n",
    "print \"Selected Features : \\n\",features_selected_list"
   ]
  },
  {
   "cell_type": "code",
   "execution_count": 197,
   "metadata": {},
   "outputs": [
    {
     "data": {
      "text/plain": [
       "array([ 12.22577476,  12.43859125,  10.16452643,   9.8693666 ,\n",
       "         0.17417355,   5.72977612,   0.80951347,   3.0325899 ,\n",
       "        13.28758702,  10.59873318,   9.36104698,   9.14145825,\n",
       "         4.95067898,   4.06628   ,   2.18629651,   2.30636802,\n",
       "         0.06088887,   8.64902275,   7.65862709,   1.40909808,\n",
       "        11.16645325,  10.19178425,   3.0325899 ])"
      ]
     },
     "execution_count": 197,
     "metadata": {},
     "output_type": "execute_result"
    }
   ],
   "source": [
    "feature_scores =  grid.best_estimator_.named_steps['SKB'].scores_\n",
    "feature_scores"
   ]
  },
  {
   "cell_type": "code",
   "execution_count": 198,
   "metadata": {},
   "outputs": [
    {
     "name": "stdout",
     "output_type": "stream",
     "text": [
      "Selected Features : \n",
      "['salary', 'bonus', 'long_term_incentive', 'bonus-to-salary_ratio', 'deferred_income', 'fraction_mail_from_poi', 'total_payments', 'other', 'shared_receipt_with_poi', 'exercised_stock_options', 'total_stock_value']\n"
     ]
    },
    {
     "data": {
      "text/plain": [
       "array([ 12.22577476,  12.43859125,  10.16452643,   9.8693666 ,\n",
       "        13.28758702,  10.59873318,   9.36104698,   9.14145825,\n",
       "         8.64902275,  11.16645325,  10.19178425])"
      ]
     },
     "execution_count": 198,
     "metadata": {},
     "output_type": "execute_result"
    }
   ],
   "source": [
    "features_selected_bool = grid.best_estimator_.named_steps['SKB'].get_support()\n",
    "features_selected_list = [x for x,y in zip(features_list[1:], features_selected_bool) if y]\n",
    "print \"Selected Features : \\n\",features_selected_list\n",
    "feature_scores =  grid.best_estimator_.named_steps['SKB'].scores_\n",
    "feature_selected_scores = feature_scores[features_selected_bool]\n",
    "feature_selected_scores"
   ]
  },
  {
   "cell_type": "code",
   "execution_count": 199,
   "metadata": {},
   "outputs": [
    {
     "data": {
      "text/html": [
       "<div>\n",
       "<style>\n",
       "    .dataframe thead tr:only-child th {\n",
       "        text-align: right;\n",
       "    }\n",
       "\n",
       "    .dataframe thead th {\n",
       "        text-align: left;\n",
       "    }\n",
       "\n",
       "    .dataframe tbody tr th {\n",
       "        vertical-align: top;\n",
       "    }\n",
       "</style>\n",
       "<table border=\"1\" class=\"dataframe\">\n",
       "  <thead>\n",
       "    <tr style=\"text-align: right;\">\n",
       "      <th></th>\n",
       "      <th>Features_Selected</th>\n",
       "      <th>Features_score</th>\n",
       "    </tr>\n",
       "  </thead>\n",
       "  <tbody>\n",
       "    <tr>\n",
       "      <th>1</th>\n",
       "      <td>deferred_income</td>\n",
       "      <td>13.287587</td>\n",
       "    </tr>\n",
       "    <tr>\n",
       "      <th>2</th>\n",
       "      <td>bonus</td>\n",
       "      <td>12.438591</td>\n",
       "    </tr>\n",
       "    <tr>\n",
       "      <th>3</th>\n",
       "      <td>salary</td>\n",
       "      <td>12.225775</td>\n",
       "    </tr>\n",
       "    <tr>\n",
       "      <th>4</th>\n",
       "      <td>exercised_stock_options</td>\n",
       "      <td>11.166453</td>\n",
       "    </tr>\n",
       "    <tr>\n",
       "      <th>5</th>\n",
       "      <td>fraction_mail_from_poi</td>\n",
       "      <td>10.598733</td>\n",
       "    </tr>\n",
       "    <tr>\n",
       "      <th>6</th>\n",
       "      <td>total_stock_value</td>\n",
       "      <td>10.191784</td>\n",
       "    </tr>\n",
       "    <tr>\n",
       "      <th>7</th>\n",
       "      <td>long_term_incentive</td>\n",
       "      <td>10.164526</td>\n",
       "    </tr>\n",
       "    <tr>\n",
       "      <th>8</th>\n",
       "      <td>bonus-to-salary_ratio</td>\n",
       "      <td>9.869367</td>\n",
       "    </tr>\n",
       "    <tr>\n",
       "      <th>9</th>\n",
       "      <td>total_payments</td>\n",
       "      <td>9.361047</td>\n",
       "    </tr>\n",
       "    <tr>\n",
       "      <th>10</th>\n",
       "      <td>other</td>\n",
       "      <td>9.141458</td>\n",
       "    </tr>\n",
       "    <tr>\n",
       "      <th>11</th>\n",
       "      <td>shared_receipt_with_poi</td>\n",
       "      <td>8.649023</td>\n",
       "    </tr>\n",
       "  </tbody>\n",
       "</table>\n",
       "</div>"
      ],
      "text/plain": [
       "          Features_Selected  Features_score\n",
       "1           deferred_income       13.287587\n",
       "2                     bonus       12.438591\n",
       "3                    salary       12.225775\n",
       "4   exercised_stock_options       11.166453\n",
       "5    fraction_mail_from_poi       10.598733\n",
       "6         total_stock_value       10.191784\n",
       "7       long_term_incentive       10.164526\n",
       "8     bonus-to-salary_ratio        9.869367\n",
       "9            total_payments        9.361047\n",
       "10                    other        9.141458\n",
       "11  shared_receipt_with_poi        8.649023"
      ]
     },
     "execution_count": 199,
     "metadata": {},
     "output_type": "execute_result"
    }
   ],
   "source": [
    "imp_features_df = pd.DataFrame({'Features_Selected':features_selected_list, 'Features_score':feature_selected_scores})\n",
    "imp_features_df.sort_values('Features_score', ascending = False,inplace = True)\n",
    "Rank = pd.Series(list(range(1,len(features_selected_list)+1)))\n",
    "imp_features_df.set_index(Rank, inplace = True)\n",
    "imp_features_df"
   ]
  },
  {
   "cell_type": "markdown",
   "metadata": {},
   "source": [
    "## Classifier KNN without PCA"
   ]
  },
  {
   "cell_type": "code",
   "execution_count": 59,
   "metadata": {},
   "outputs": [
    {
     "name": "stderr",
     "output_type": "stream",
     "text": [
      "C:\\Anaconda3\\envs\\py2_env\\lib\\site-packages\\sklearn\\feature_selection\\univariate_selection.py:113: UserWarning: Features [18] are constant.\n",
      "  UserWarning)\n",
      "C:\\Anaconda3\\envs\\py2_env\\lib\\site-packages\\sklearn\\feature_selection\\univariate_selection.py:114: RuntimeWarning: invalid value encountered in divide\n",
      "  f = msb / msw\n",
      "C:\\Anaconda3\\envs\\py2_env\\lib\\site-packages\\sklearn\\metrics\\classification.py:1135: UndefinedMetricWarning: F-score is ill-defined and being set to 0.0 due to no predicted samples.\n",
      "  'precision', 'predicted', average, warn_for)\n"
     ]
    },
    {
     "name": "stdout",
     "output_type": "stream",
     "text": [
      "training time:  16.293 s\n",
      "testing time:  0.016 s\n",
      "Accuracy of DT classifer is  :  0.857142857143\n",
      "Precision of DT classifer is :  0.166666666667\n",
      "Recall of DT classifer is    :  0.5\n",
      "f1-score of DT classifer is  :  0.25\n"
     ]
    }
   ],
   "source": [
    "from sklearn.neighbors import KNeighborsClassifier\n",
    "clf_knn = KNeighborsClassifier()\n",
    "\n",
    "sss = StratifiedShuffleSplit(n_splits=10, test_size=0.3,random_state = 42)\n",
    "pipeline = Pipeline(steps = [(\"scaling\", scaler), (\"SKB\", skb),  (\"knn\",clf_knn)])\n",
    "param_grid = {\"SKB__k\":[7,8,9,10,11,12,13,14,15, 16, 17, 18], \n",
    "              \"knn__n_neighbors\": [3,4,5,6,7,8,9,11,12,13,15],\n",
    "              }\n",
    "\n",
    "grid = GridSearchCV(pipeline, param_grid, verbose = 0, cv = sss, scoring = 'f1')\n",
    "\n",
    "t0 = time()\n",
    "#clf = clf.fit(features_train, labels_train)\n",
    "grid.fit(features, labels)\n",
    "print \"training time: \", round(time()-t0, 3), \"s\"\n",
    "\n",
    "# best algorithm\n",
    "clf = grid.best_estimator_\n",
    "\n",
    "t0 = time()\n",
    "# refit the best algorithm:\n",
    "clf.fit(features_train, labels_train)\n",
    "prediction = clf.predict(features_test)\n",
    "print \"testing time: \", round(time()-t0, 3), \"s\"\n",
    "\n",
    "print \"Accuracy of DT classifer is  : \",accuracy_score(labels_test, prediction)\n",
    "print \"Precision of DT classifer is : \",precision_score(prediction, labels_test)\n",
    "print \"Recall of DT classifer is    : \",recall_score(prediction, labels_test)\n",
    "print \"f1-score of DT classifer is  : \",f1_score(prediction, labels_test)"
   ]
  },
  {
   "cell_type": "code",
   "execution_count": 60,
   "metadata": {},
   "outputs": [
    {
     "data": {
      "text/plain": [
       "{'SKB__k': 8, 'knn__n_neighbors': 3}"
      ]
     },
     "execution_count": 60,
     "metadata": {},
     "output_type": "execute_result"
    }
   ],
   "source": [
    "grid.best_params_"
   ]
  },
  {
   "cell_type": "code",
   "execution_count": 61,
   "metadata": {},
   "outputs": [
    {
     "data": {
      "text/plain": [
       "Pipeline(memory=None,\n",
       "     steps=[('scaling', MinMaxScaler(copy=True, feature_range=(0, 1))), ('SKB', SelectKBest(k=8, score_func=<function f_classif at 0x000000000C186198>)), ('knn', KNeighborsClassifier(algorithm='auto', leaf_size=30, metric='minkowski',\n",
       "           metric_params=None, n_jobs=1, n_neighbors=3, p=2,\n",
       "           weights='uniform'))])"
      ]
     },
     "execution_count": 61,
     "metadata": {},
     "output_type": "execute_result"
    }
   ],
   "source": [
    "grid.best_estimator_"
   ]
  },
  {
   "cell_type": "code",
   "execution_count": 62,
   "metadata": {},
   "outputs": [
    {
     "name": "stdout",
     "output_type": "stream",
     "text": [
      "Selected Features : \n",
      "['salary', 'bonus', 'long_term_incentive', 'bonus-to-salary_ratio', 'deferred_income', 'fraction_mail_from_poi', 'exercised_stock_options', 'total_stock_value']\n"
     ]
    }
   ],
   "source": [
    "features_selected_bool = grid.best_estimator_.named_steps['SKB'].get_support()\n",
    "features_selected_list = [x for x,y in zip(features_list[1:], features_selected_bool) if y]\n",
    "print \"Selected Features : \\n\",features_selected_list"
   ]
  },
  {
   "cell_type": "code",
   "execution_count": 63,
   "metadata": {},
   "outputs": [
    {
     "data": {
      "text/plain": [
       "array([ 12.22577476,  12.43859125,  10.16452643,   9.8693666 ,\n",
       "         0.17417355,   5.72977612,   0.80951347,   3.0325899 ,\n",
       "        13.28758702,  10.59873318,   9.36104698,   9.14145825,\n",
       "         4.95067898,   4.06628   ,   2.18629651,   2.30636802,\n",
       "         0.06088887,   8.64902275,   7.65862709,   1.40909808,\n",
       "        11.16645325,  10.19178425,   3.0325899 ])"
      ]
     },
     "execution_count": 63,
     "metadata": {},
     "output_type": "execute_result"
    }
   ],
   "source": [
    "feature_scores =  grid.best_estimator_.named_steps['SKB'].scores_\n",
    "feature_scores"
   ]
  },
  {
   "cell_type": "code",
   "execution_count": 64,
   "metadata": {},
   "outputs": [
    {
     "name": "stdout",
     "output_type": "stream",
     "text": [
      "Selected Features : \n",
      "['salary', 'bonus', 'long_term_incentive', 'bonus-to-salary_ratio', 'deferred_income', 'fraction_mail_from_poi', 'exercised_stock_options', 'total_stock_value']\n"
     ]
    },
    {
     "data": {
      "text/plain": [
       "array([ 12.22577476,  12.43859125,  10.16452643,   9.8693666 ,\n",
       "        13.28758702,  10.59873318,  11.16645325,  10.19178425])"
      ]
     },
     "execution_count": 64,
     "metadata": {},
     "output_type": "execute_result"
    }
   ],
   "source": [
    "features_selected_bool = grid.best_estimator_.named_steps['SKB'].get_support()\n",
    "features_selected_list = [x for x,y in zip(features_list[1:], features_selected_bool) if y]\n",
    "print \"Selected Features : \\n\",features_selected_list\n",
    "feature_scores =  grid.best_estimator_.named_steps['SKB'].scores_\n",
    "feature_selected_scores = feature_scores[features_selected_bool]\n",
    "feature_selected_scores"
   ]
  },
  {
   "cell_type": "code",
   "execution_count": 65,
   "metadata": {},
   "outputs": [
    {
     "data": {
      "text/html": [
       "<div>\n",
       "<style>\n",
       "    .dataframe thead tr:only-child th {\n",
       "        text-align: right;\n",
       "    }\n",
       "\n",
       "    .dataframe thead th {\n",
       "        text-align: left;\n",
       "    }\n",
       "\n",
       "    .dataframe tbody tr th {\n",
       "        vertical-align: top;\n",
       "    }\n",
       "</style>\n",
       "<table border=\"1\" class=\"dataframe\">\n",
       "  <thead>\n",
       "    <tr style=\"text-align: right;\">\n",
       "      <th></th>\n",
       "      <th>Features_Selected</th>\n",
       "      <th>Features_score</th>\n",
       "    </tr>\n",
       "  </thead>\n",
       "  <tbody>\n",
       "    <tr>\n",
       "      <th>1</th>\n",
       "      <td>deferred_income</td>\n",
       "      <td>13.287587</td>\n",
       "    </tr>\n",
       "    <tr>\n",
       "      <th>2</th>\n",
       "      <td>bonus</td>\n",
       "      <td>12.438591</td>\n",
       "    </tr>\n",
       "    <tr>\n",
       "      <th>3</th>\n",
       "      <td>salary</td>\n",
       "      <td>12.225775</td>\n",
       "    </tr>\n",
       "    <tr>\n",
       "      <th>4</th>\n",
       "      <td>exercised_stock_options</td>\n",
       "      <td>11.166453</td>\n",
       "    </tr>\n",
       "    <tr>\n",
       "      <th>5</th>\n",
       "      <td>fraction_mail_from_poi</td>\n",
       "      <td>10.598733</td>\n",
       "    </tr>\n",
       "    <tr>\n",
       "      <th>6</th>\n",
       "      <td>total_stock_value</td>\n",
       "      <td>10.191784</td>\n",
       "    </tr>\n",
       "    <tr>\n",
       "      <th>7</th>\n",
       "      <td>long_term_incentive</td>\n",
       "      <td>10.164526</td>\n",
       "    </tr>\n",
       "    <tr>\n",
       "      <th>8</th>\n",
       "      <td>bonus-to-salary_ratio</td>\n",
       "      <td>9.869367</td>\n",
       "    </tr>\n",
       "  </tbody>\n",
       "</table>\n",
       "</div>"
      ],
      "text/plain": [
       "         Features_Selected  Features_score\n",
       "1          deferred_income       13.287587\n",
       "2                    bonus       12.438591\n",
       "3                   salary       12.225775\n",
       "4  exercised_stock_options       11.166453\n",
       "5   fraction_mail_from_poi       10.598733\n",
       "6        total_stock_value       10.191784\n",
       "7      long_term_incentive       10.164526\n",
       "8    bonus-to-salary_ratio        9.869367"
      ]
     },
     "execution_count": 65,
     "metadata": {},
     "output_type": "execute_result"
    }
   ],
   "source": [
    "imp_features_df = pd.DataFrame({'Features_Selected':features_selected_list, 'Features_score':feature_selected_scores})\n",
    "imp_features_df.sort_values('Features_score', ascending = False,inplace = True)\n",
    "Rank = pd.Series(list(range(1,len(features_selected_list)+1)))\n",
    "imp_features_df.set_index(Rank, inplace = True)\n",
    "imp_features_df"
   ]
  },
  {
   "cell_type": "code",
   "execution_count": null,
   "metadata": {
    "collapsed": true
   },
   "outputs": [],
   "source": []
  },
  {
   "cell_type": "code",
   "execution_count": null,
   "metadata": {
    "collapsed": true
   },
   "outputs": [],
   "source": []
  }
 ],
 "metadata": {
  "kernelspec": {
   "display_name": "Python 2",
   "language": "python",
   "name": "python2"
  },
  "language_info": {
   "codemirror_mode": {
    "name": "ipython",
    "version": 2
   },
   "file_extension": ".py",
   "mimetype": "text/x-python",
   "name": "python",
   "nbconvert_exporter": "python",
   "pygments_lexer": "ipython2",
   "version": "2.7.14"
  }
 },
 "nbformat": 4,
 "nbformat_minor": 2
}
